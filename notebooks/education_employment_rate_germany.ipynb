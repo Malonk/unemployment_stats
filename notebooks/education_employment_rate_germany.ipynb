{
 "cells": [
  {
   "cell_type": "code",
   "execution_count": 2,
   "metadata": {},
   "outputs": [],
   "source": [
    "import pandas as pd\n",
    "import numpy as np\n",
    "import matplotlib as plt\n",
    "import seaborn as sns\n",
    "%matplotlib inline"
   ]
  },
  {
   "cell_type": "code",
   "execution_count": 3,
   "metadata": {},
   "outputs": [],
   "source": [
    "df = pd.read_pickle(\"../data/pickles/tepsr_wc120.pkl\")"
   ]
  },
  {
   "cell_type": "markdown",
   "metadata": {},
   "source": [
    "Let's have a look at the data"
   ]
  },
  {
   "cell_type": "code",
   "execution_count": 4,
   "metadata": {},
   "outputs": [
    {
     "data": {
      "text/html": [
       "<div>\n",
       "<style scoped>\n",
       "    .dataframe tbody tr th:only-of-type {\n",
       "        vertical-align: middle;\n",
       "    }\n",
       "\n",
       "    .dataframe tbody tr th {\n",
       "        vertical-align: top;\n",
       "    }\n",
       "\n",
       "    .dataframe thead th {\n",
       "        text-align: right;\n",
       "    }\n",
       "</style>\n",
       "<table border=\"1\" class=\"dataframe\">\n",
       "  <thead>\n",
       "    <tr style=\"text-align: right;\">\n",
       "      <th></th>\n",
       "      <th>unit</th>\n",
       "      <th>sex</th>\n",
       "      <th>age</th>\n",
       "      <th>isced11</th>\n",
       "      <th>geo</th>\n",
       "      <th>2005</th>\n",
       "      <th>2006</th>\n",
       "      <th>2007</th>\n",
       "      <th>2008</th>\n",
       "      <th>2009</th>\n",
       "      <th>2010</th>\n",
       "      <th>2011</th>\n",
       "      <th>2012</th>\n",
       "      <th>2013</th>\n",
       "      <th>2014</th>\n",
       "      <th>2015</th>\n",
       "      <th>2016</th>\n",
       "      <th>2017</th>\n",
       "      <th>2018</th>\n",
       "      <th>2019</th>\n",
       "    </tr>\n",
       "  </thead>\n",
       "  <tbody>\n",
       "    <tr>\n",
       "      <th>0</th>\n",
       "      <td>PC</td>\n",
       "      <td>T</td>\n",
       "      <td>Y20-64</td>\n",
       "      <td>ED0-2</td>\n",
       "      <td>AT</td>\n",
       "      <td>52.0</td>\n",
       "      <td>54.0</td>\n",
       "      <td>56.5</td>\n",
       "      <td>55.7</td>\n",
       "      <td>54.0</td>\n",
       "      <td>54.9</td>\n",
       "      <td>55.3</td>\n",
       "      <td>54.7</td>\n",
       "      <td>53.9</td>\n",
       "      <td>53.1</td>\n",
       "      <td>53.1</td>\n",
       "      <td>53.9</td>\n",
       "      <td>53.9</td>\n",
       "      <td>55.6</td>\n",
       "      <td>55.7</td>\n",
       "    </tr>\n",
       "    <tr>\n",
       "      <th>1</th>\n",
       "      <td>PC</td>\n",
       "      <td>T</td>\n",
       "      <td>Y20-64</td>\n",
       "      <td>ED0-2</td>\n",
       "      <td>BE</td>\n",
       "      <td>48.8</td>\n",
       "      <td>48.8</td>\n",
       "      <td>49.5</td>\n",
       "      <td>49.1</td>\n",
       "      <td>47.7</td>\n",
       "      <td>48.4</td>\n",
       "      <td>47.3</td>\n",
       "      <td>47.1</td>\n",
       "      <td>46.8</td>\n",
       "      <td>46.6</td>\n",
       "      <td>45.6</td>\n",
       "      <td>45.6</td>\n",
       "      <td>45.9</td>\n",
       "      <td>45.6</td>\n",
       "      <td>46.3</td>\n",
       "    </tr>\n",
       "    <tr>\n",
       "      <th>2</th>\n",
       "      <td>PC</td>\n",
       "      <td>T</td>\n",
       "      <td>Y20-64</td>\n",
       "      <td>ED0-2</td>\n",
       "      <td>BG</td>\n",
       "      <td>39.4</td>\n",
       "      <td>40.2</td>\n",
       "      <td>43.5</td>\n",
       "      <td>46.5</td>\n",
       "      <td>45.0</td>\n",
       "      <td>39.8</td>\n",
       "      <td>36.7</td>\n",
       "      <td>36.2</td>\n",
       "      <td>36.9</td>\n",
       "      <td>38.6</td>\n",
       "      <td>39.0</td>\n",
       "      <td>39.2</td>\n",
       "      <td>44.4</td>\n",
       "      <td>46.2</td>\n",
       "      <td>51.2</td>\n",
       "    </tr>\n",
       "    <tr>\n",
       "      <th>3</th>\n",
       "      <td>PC</td>\n",
       "      <td>T</td>\n",
       "      <td>Y20-64</td>\n",
       "      <td>ED0-2</td>\n",
       "      <td>CH</td>\n",
       "      <td>66.5</td>\n",
       "      <td>66.2</td>\n",
       "      <td>67.3</td>\n",
       "      <td>69.0</td>\n",
       "      <td>69.0</td>\n",
       "      <td>67.1</td>\n",
       "      <td>67.7</td>\n",
       "      <td>68.1</td>\n",
       "      <td>67.9</td>\n",
       "      <td>67.9</td>\n",
       "      <td>68.1</td>\n",
       "      <td>68.1</td>\n",
       "      <td>67.7</td>\n",
       "      <td>69.2</td>\n",
       "      <td>69.7</td>\n",
       "    </tr>\n",
       "    <tr>\n",
       "      <th>4</th>\n",
       "      <td>PC</td>\n",
       "      <td>T</td>\n",
       "      <td>Y20-64</td>\n",
       "      <td>ED0-2</td>\n",
       "      <td>CY</td>\n",
       "      <td>64.8</td>\n",
       "      <td>66.6</td>\n",
       "      <td>66.4</td>\n",
       "      <td>64.1</td>\n",
       "      <td>64.9</td>\n",
       "      <td>66.8</td>\n",
       "      <td>65.1</td>\n",
       "      <td>57.8</td>\n",
       "      <td>54.9</td>\n",
       "      <td>54.6</td>\n",
       "      <td>55.1</td>\n",
       "      <td>56.8</td>\n",
       "      <td>57.0</td>\n",
       "      <td>61.6</td>\n",
       "      <td>63.2</td>\n",
       "    </tr>\n",
       "  </tbody>\n",
       "</table>\n",
       "</div>"
      ],
      "text/plain": [
       "  unit sex     age isced11 geo  2005  2006  2007  2008  2009  2010  2011  \\\n",
       "0   PC   T  Y20-64   ED0-2  AT  52.0  54.0  56.5  55.7  54.0  54.9  55.3   \n",
       "1   PC   T  Y20-64   ED0-2  BE  48.8  48.8  49.5  49.1  47.7  48.4  47.3   \n",
       "2   PC   T  Y20-64   ED0-2  BG  39.4  40.2  43.5  46.5  45.0  39.8  36.7   \n",
       "3   PC   T  Y20-64   ED0-2  CH  66.5  66.2  67.3  69.0  69.0  67.1  67.7   \n",
       "4   PC   T  Y20-64   ED0-2  CY  64.8  66.6  66.4  64.1  64.9  66.8  65.1   \n",
       "\n",
       "   2012  2013  2014  2015  2016  2017  2018  2019  \n",
       "0  54.7  53.9  53.1  53.1  53.9  53.9  55.6  55.7  \n",
       "1  47.1  46.8  46.6  45.6  45.6  45.9  45.6  46.3  \n",
       "2  36.2  36.9  38.6  39.0  39.2  44.4  46.2  51.2  \n",
       "3  68.1  67.9  67.9  68.1  68.1  67.7  69.2  69.7  \n",
       "4  57.8  54.9  54.6  55.1  56.8  57.0  61.6  63.2  "
      ]
     },
     "execution_count": 4,
     "metadata": {},
     "output_type": "execute_result"
    }
   ],
   "source": [
    "df.head()"
   ]
  },
  {
   "cell_type": "code",
   "execution_count": 5,
   "metadata": {},
   "outputs": [
    {
     "data": {
      "text/plain": [
       "array(['ED0-2', 'ED3_4', 'ED5-8'], dtype=object)"
      ]
     },
     "execution_count": 5,
     "metadata": {},
     "output_type": "execute_result"
    }
   ],
   "source": [
    "df[\"isced11\"].unique()"
   ]
  },
  {
   "cell_type": "markdown",
   "metadata": {},
   "source": [
    "There are 3 types of education levels:\n",
    "- ED0-2: Less than primary, primary and lower secundary education (level 0-2)\n",
    "- ED3_4: Upper secondary and post-secundary non-tertiary education (level 3-4)\n",
    "- ED5-8: Tertiary education (level 5-8)"
   ]
  },
  {
   "cell_type": "code",
   "execution_count": 6,
   "metadata": {},
   "outputs": [
    {
     "data": {
      "text/plain": [
       "array(['AT', 'BE', 'BG', 'CH', 'CY', 'CZ', 'DE', 'DK', 'EA19', 'EE', 'EL',\n",
       "       'ES', 'EU27_2020', 'EU28', 'FI', 'FR', 'HR', 'HU', 'IE', 'IS',\n",
       "       'IT', 'LT', 'LU', 'LV', 'ME', 'MK', 'MT', 'NL', 'NO', 'PL', 'PT',\n",
       "       'RO', 'RS', 'SE', 'SI', 'SK', 'TR', 'UK'], dtype=object)"
      ]
     },
     "execution_count": 6,
     "metadata": {},
     "output_type": "execute_result"
    }
   ],
   "source": [
    "df[\"geo\"].unique()"
   ]
  },
  {
   "cell_type": "code",
   "execution_count": 7,
   "metadata": {},
   "outputs": [
    {
     "data": {
      "text/plain": [
       "array(['T'], dtype=object)"
      ]
     },
     "execution_count": 7,
     "metadata": {},
     "output_type": "execute_result"
    }
   ],
   "source": [
    "df[\"sex\"].unique()"
   ]
  },
  {
   "cell_type": "markdown",
   "metadata": {},
   "source": [
    "Only Total for sex is available, meaning male and female together"
   ]
  },
  {
   "cell_type": "markdown",
   "metadata": {},
   "source": [
    "Filter for Germany only"
   ]
  },
  {
   "cell_type": "code",
   "execution_count": 8,
   "metadata": {},
   "outputs": [],
   "source": [
    "df_germany = df.loc[df[\"geo\"] == \"DE\"]"
   ]
  },
  {
   "cell_type": "code",
   "execution_count": 9,
   "metadata": {},
   "outputs": [
    {
     "data": {
      "text/html": [
       "<div>\n",
       "<style scoped>\n",
       "    .dataframe tbody tr th:only-of-type {\n",
       "        vertical-align: middle;\n",
       "    }\n",
       "\n",
       "    .dataframe tbody tr th {\n",
       "        vertical-align: top;\n",
       "    }\n",
       "\n",
       "    .dataframe thead th {\n",
       "        text-align: right;\n",
       "    }\n",
       "</style>\n",
       "<table border=\"1\" class=\"dataframe\">\n",
       "  <thead>\n",
       "    <tr style=\"text-align: right;\">\n",
       "      <th></th>\n",
       "      <th>unit</th>\n",
       "      <th>sex</th>\n",
       "      <th>age</th>\n",
       "      <th>isced11</th>\n",
       "      <th>geo</th>\n",
       "      <th>2005</th>\n",
       "      <th>2006</th>\n",
       "      <th>2007</th>\n",
       "      <th>2008</th>\n",
       "      <th>2009</th>\n",
       "      <th>2010</th>\n",
       "      <th>2011</th>\n",
       "      <th>2012</th>\n",
       "      <th>2013</th>\n",
       "      <th>2014</th>\n",
       "      <th>2015</th>\n",
       "      <th>2016</th>\n",
       "      <th>2017</th>\n",
       "      <th>2018</th>\n",
       "      <th>2019</th>\n",
       "    </tr>\n",
       "  </thead>\n",
       "  <tbody>\n",
       "    <tr>\n",
       "      <th>6</th>\n",
       "      <td>PC</td>\n",
       "      <td>T</td>\n",
       "      <td>Y20-64</td>\n",
       "      <td>ED0-2</td>\n",
       "      <td>DE</td>\n",
       "      <td>51.9</td>\n",
       "      <td>54.1</td>\n",
       "      <td>55.0</td>\n",
       "      <td>55.9</td>\n",
       "      <td>55.7</td>\n",
       "      <td>56.1</td>\n",
       "      <td>57.4</td>\n",
       "      <td>57.8</td>\n",
       "      <td>58.3</td>\n",
       "      <td>58.0</td>\n",
       "      <td>58.5</td>\n",
       "      <td>58.9</td>\n",
       "      <td>59.6</td>\n",
       "      <td>60.7</td>\n",
       "      <td>61.8</td>\n",
       "    </tr>\n",
       "    <tr>\n",
       "      <th>44</th>\n",
       "      <td>PC</td>\n",
       "      <td>T</td>\n",
       "      <td>Y20-64</td>\n",
       "      <td>ED3_4</td>\n",
       "      <td>DE</td>\n",
       "      <td>69.6</td>\n",
       "      <td>71.4</td>\n",
       "      <td>73.3</td>\n",
       "      <td>74.2</td>\n",
       "      <td>74.1</td>\n",
       "      <td>74.9</td>\n",
       "      <td>76.3</td>\n",
       "      <td>76.8</td>\n",
       "      <td>77.3</td>\n",
       "      <td>78.1</td>\n",
       "      <td>78.4</td>\n",
       "      <td>79.3</td>\n",
       "      <td>80.0</td>\n",
       "      <td>80.7</td>\n",
       "      <td>81.3</td>\n",
       "    </tr>\n",
       "    <tr>\n",
       "      <th>82</th>\n",
       "      <td>PC</td>\n",
       "      <td>T</td>\n",
       "      <td>Y20-64</td>\n",
       "      <td>ED5-8</td>\n",
       "      <td>DE</td>\n",
       "      <td>82.8</td>\n",
       "      <td>84.2</td>\n",
       "      <td>85.4</td>\n",
       "      <td>85.7</td>\n",
       "      <td>86.3</td>\n",
       "      <td>86.8</td>\n",
       "      <td>87.8</td>\n",
       "      <td>87.7</td>\n",
       "      <td>87.6</td>\n",
       "      <td>87.7</td>\n",
       "      <td>87.8</td>\n",
       "      <td>87.9</td>\n",
       "      <td>88.1</td>\n",
       "      <td>88.5</td>\n",
       "      <td>89.0</td>\n",
       "    </tr>\n",
       "  </tbody>\n",
       "</table>\n",
       "</div>"
      ],
      "text/plain": [
       "   unit sex     age isced11 geo  2005  2006  2007  2008  2009  2010  2011  \\\n",
       "6    PC   T  Y20-64   ED0-2  DE  51.9  54.1  55.0  55.9  55.7  56.1  57.4   \n",
       "44   PC   T  Y20-64   ED3_4  DE  69.6  71.4  73.3  74.2  74.1  74.9  76.3   \n",
       "82   PC   T  Y20-64   ED5-8  DE  82.8  84.2  85.4  85.7  86.3  86.8  87.8   \n",
       "\n",
       "    2012  2013  2014  2015  2016  2017  2018  2019  \n",
       "6   57.8  58.3  58.0  58.5  58.9  59.6  60.7  61.8  \n",
       "44  76.8  77.3  78.1  78.4  79.3  80.0  80.7  81.3  \n",
       "82  87.7  87.6  87.7  87.8  87.9  88.1  88.5  89.0  "
      ]
     },
     "execution_count": 9,
     "metadata": {},
     "output_type": "execute_result"
    }
   ],
   "source": [
    "df_germany.head()"
   ]
  },
  {
   "cell_type": "markdown",
   "metadata": {},
   "source": [
    "Only leave the columns that we use for this particular analysis: isced11 (education level) and year.\n",
    "And transform the dataframe to a suitable format for plotting"
   ]
  },
  {
   "cell_type": "code",
   "execution_count": 10,
   "metadata": {},
   "outputs": [],
   "source": [
    "df_germany = df_germany.drop(columns=[\"unit\", \"sex\", \"age\", \"geo\"])"
   ]
  },
  {
   "cell_type": "code",
   "execution_count": 11,
   "metadata": {},
   "outputs": [],
   "source": [
    "df_germany = df_germany.set_index(\"isced11\")"
   ]
  },
  {
   "cell_type": "code",
   "execution_count": 12,
   "metadata": {},
   "outputs": [
    {
     "data": {
      "text/html": [
       "<div>\n",
       "<style scoped>\n",
       "    .dataframe tbody tr th:only-of-type {\n",
       "        vertical-align: middle;\n",
       "    }\n",
       "\n",
       "    .dataframe tbody tr th {\n",
       "        vertical-align: top;\n",
       "    }\n",
       "\n",
       "    .dataframe thead th {\n",
       "        text-align: right;\n",
       "    }\n",
       "</style>\n",
       "<table border=\"1\" class=\"dataframe\">\n",
       "  <thead>\n",
       "    <tr style=\"text-align: right;\">\n",
       "      <th></th>\n",
       "      <th>2005</th>\n",
       "      <th>2006</th>\n",
       "      <th>2007</th>\n",
       "      <th>2008</th>\n",
       "      <th>2009</th>\n",
       "      <th>2010</th>\n",
       "      <th>2011</th>\n",
       "      <th>2012</th>\n",
       "      <th>2013</th>\n",
       "      <th>2014</th>\n",
       "      <th>2015</th>\n",
       "      <th>2016</th>\n",
       "      <th>2017</th>\n",
       "      <th>2018</th>\n",
       "      <th>2019</th>\n",
       "    </tr>\n",
       "    <tr>\n",
       "      <th>isced11</th>\n",
       "      <th></th>\n",
       "      <th></th>\n",
       "      <th></th>\n",
       "      <th></th>\n",
       "      <th></th>\n",
       "      <th></th>\n",
       "      <th></th>\n",
       "      <th></th>\n",
       "      <th></th>\n",
       "      <th></th>\n",
       "      <th></th>\n",
       "      <th></th>\n",
       "      <th></th>\n",
       "      <th></th>\n",
       "      <th></th>\n",
       "    </tr>\n",
       "  </thead>\n",
       "  <tbody>\n",
       "    <tr>\n",
       "      <th>ED0-2</th>\n",
       "      <td>51.9</td>\n",
       "      <td>54.1</td>\n",
       "      <td>55.0</td>\n",
       "      <td>55.9</td>\n",
       "      <td>55.7</td>\n",
       "      <td>56.1</td>\n",
       "      <td>57.4</td>\n",
       "      <td>57.8</td>\n",
       "      <td>58.3</td>\n",
       "      <td>58.0</td>\n",
       "      <td>58.5</td>\n",
       "      <td>58.9</td>\n",
       "      <td>59.6</td>\n",
       "      <td>60.7</td>\n",
       "      <td>61.8</td>\n",
       "    </tr>\n",
       "    <tr>\n",
       "      <th>ED3_4</th>\n",
       "      <td>69.6</td>\n",
       "      <td>71.4</td>\n",
       "      <td>73.3</td>\n",
       "      <td>74.2</td>\n",
       "      <td>74.1</td>\n",
       "      <td>74.9</td>\n",
       "      <td>76.3</td>\n",
       "      <td>76.8</td>\n",
       "      <td>77.3</td>\n",
       "      <td>78.1</td>\n",
       "      <td>78.4</td>\n",
       "      <td>79.3</td>\n",
       "      <td>80.0</td>\n",
       "      <td>80.7</td>\n",
       "      <td>81.3</td>\n",
       "    </tr>\n",
       "    <tr>\n",
       "      <th>ED5-8</th>\n",
       "      <td>82.8</td>\n",
       "      <td>84.2</td>\n",
       "      <td>85.4</td>\n",
       "      <td>85.7</td>\n",
       "      <td>86.3</td>\n",
       "      <td>86.8</td>\n",
       "      <td>87.8</td>\n",
       "      <td>87.7</td>\n",
       "      <td>87.6</td>\n",
       "      <td>87.7</td>\n",
       "      <td>87.8</td>\n",
       "      <td>87.9</td>\n",
       "      <td>88.1</td>\n",
       "      <td>88.5</td>\n",
       "      <td>89.0</td>\n",
       "    </tr>\n",
       "  </tbody>\n",
       "</table>\n",
       "</div>"
      ],
      "text/plain": [
       "         2005  2006  2007  2008  2009  2010  2011  2012  2013  2014  2015  \\\n",
       "isced11                                                                     \n",
       "ED0-2    51.9  54.1  55.0  55.9  55.7  56.1  57.4  57.8  58.3  58.0  58.5   \n",
       "ED3_4    69.6  71.4  73.3  74.2  74.1  74.9  76.3  76.8  77.3  78.1  78.4   \n",
       "ED5-8    82.8  84.2  85.4  85.7  86.3  86.8  87.8  87.7  87.6  87.7  87.8   \n",
       "\n",
       "         2016  2017  2018  2019  \n",
       "isced11                          \n",
       "ED0-2    58.9  59.6  60.7  61.8  \n",
       "ED3_4    79.3  80.0  80.7  81.3  \n",
       "ED5-8    87.9  88.1  88.5  89.0  "
      ]
     },
     "execution_count": 12,
     "metadata": {},
     "output_type": "execute_result"
    }
   ],
   "source": [
    "df_germany"
   ]
  },
  {
   "cell_type": "code",
   "execution_count": 13,
   "metadata": {
    "scrolled": true
   },
   "outputs": [],
   "source": [
    "df_germany = df_germany.T"
   ]
  },
  {
   "cell_type": "code",
   "execution_count": 14,
   "metadata": {},
   "outputs": [
    {
     "data": {
      "text/html": [
       "<div>\n",
       "<style scoped>\n",
       "    .dataframe tbody tr th:only-of-type {\n",
       "        vertical-align: middle;\n",
       "    }\n",
       "\n",
       "    .dataframe tbody tr th {\n",
       "        vertical-align: top;\n",
       "    }\n",
       "\n",
       "    .dataframe thead th {\n",
       "        text-align: right;\n",
       "    }\n",
       "</style>\n",
       "<table border=\"1\" class=\"dataframe\">\n",
       "  <thead>\n",
       "    <tr style=\"text-align: right;\">\n",
       "      <th>isced11</th>\n",
       "      <th>ED0-2</th>\n",
       "      <th>ED3_4</th>\n",
       "      <th>ED5-8</th>\n",
       "    </tr>\n",
       "  </thead>\n",
       "  <tbody>\n",
       "    <tr>\n",
       "      <th>2005</th>\n",
       "      <td>51.9</td>\n",
       "      <td>69.6</td>\n",
       "      <td>82.8</td>\n",
       "    </tr>\n",
       "    <tr>\n",
       "      <th>2006</th>\n",
       "      <td>54.1</td>\n",
       "      <td>71.4</td>\n",
       "      <td>84.2</td>\n",
       "    </tr>\n",
       "    <tr>\n",
       "      <th>2007</th>\n",
       "      <td>55.0</td>\n",
       "      <td>73.3</td>\n",
       "      <td>85.4</td>\n",
       "    </tr>\n",
       "    <tr>\n",
       "      <th>2008</th>\n",
       "      <td>55.9</td>\n",
       "      <td>74.2</td>\n",
       "      <td>85.7</td>\n",
       "    </tr>\n",
       "    <tr>\n",
       "      <th>2009</th>\n",
       "      <td>55.7</td>\n",
       "      <td>74.1</td>\n",
       "      <td>86.3</td>\n",
       "    </tr>\n",
       "    <tr>\n",
       "      <th>2010</th>\n",
       "      <td>56.1</td>\n",
       "      <td>74.9</td>\n",
       "      <td>86.8</td>\n",
       "    </tr>\n",
       "    <tr>\n",
       "      <th>2011</th>\n",
       "      <td>57.4</td>\n",
       "      <td>76.3</td>\n",
       "      <td>87.8</td>\n",
       "    </tr>\n",
       "    <tr>\n",
       "      <th>2012</th>\n",
       "      <td>57.8</td>\n",
       "      <td>76.8</td>\n",
       "      <td>87.7</td>\n",
       "    </tr>\n",
       "    <tr>\n",
       "      <th>2013</th>\n",
       "      <td>58.3</td>\n",
       "      <td>77.3</td>\n",
       "      <td>87.6</td>\n",
       "    </tr>\n",
       "    <tr>\n",
       "      <th>2014</th>\n",
       "      <td>58.0</td>\n",
       "      <td>78.1</td>\n",
       "      <td>87.7</td>\n",
       "    </tr>\n",
       "    <tr>\n",
       "      <th>2015</th>\n",
       "      <td>58.5</td>\n",
       "      <td>78.4</td>\n",
       "      <td>87.8</td>\n",
       "    </tr>\n",
       "    <tr>\n",
       "      <th>2016</th>\n",
       "      <td>58.9</td>\n",
       "      <td>79.3</td>\n",
       "      <td>87.9</td>\n",
       "    </tr>\n",
       "    <tr>\n",
       "      <th>2017</th>\n",
       "      <td>59.6</td>\n",
       "      <td>80.0</td>\n",
       "      <td>88.1</td>\n",
       "    </tr>\n",
       "    <tr>\n",
       "      <th>2018</th>\n",
       "      <td>60.7</td>\n",
       "      <td>80.7</td>\n",
       "      <td>88.5</td>\n",
       "    </tr>\n",
       "    <tr>\n",
       "      <th>2019</th>\n",
       "      <td>61.8</td>\n",
       "      <td>81.3</td>\n",
       "      <td>89.0</td>\n",
       "    </tr>\n",
       "  </tbody>\n",
       "</table>\n",
       "</div>"
      ],
      "text/plain": [
       "isced11  ED0-2  ED3_4  ED5-8\n",
       "2005      51.9   69.6   82.8\n",
       "2006      54.1   71.4   84.2\n",
       "2007      55.0   73.3   85.4\n",
       "2008      55.9   74.2   85.7\n",
       "2009      55.7   74.1   86.3\n",
       "2010      56.1   74.9   86.8\n",
       "2011      57.4   76.3   87.8\n",
       "2012      57.8   76.8   87.7\n",
       "2013      58.3   77.3   87.6\n",
       "2014      58.0   78.1   87.7\n",
       "2015      58.5   78.4   87.8\n",
       "2016      58.9   79.3   87.9\n",
       "2017      59.6   80.0   88.1\n",
       "2018      60.7   80.7   88.5\n",
       "2019      61.8   81.3   89.0"
      ]
     },
     "execution_count": 14,
     "metadata": {},
     "output_type": "execute_result"
    }
   ],
   "source": [
    "df_germany"
   ]
  },
  {
   "cell_type": "code",
   "execution_count": 15,
   "metadata": {},
   "outputs": [],
   "source": [
    "df_germany.reset_index(inplace=True)"
   ]
  },
  {
   "cell_type": "code",
   "execution_count": 16,
   "metadata": {},
   "outputs": [
    {
     "data": {
      "text/html": [
       "<div>\n",
       "<style scoped>\n",
       "    .dataframe tbody tr th:only-of-type {\n",
       "        vertical-align: middle;\n",
       "    }\n",
       "\n",
       "    .dataframe tbody tr th {\n",
       "        vertical-align: top;\n",
       "    }\n",
       "\n",
       "    .dataframe thead th {\n",
       "        text-align: right;\n",
       "    }\n",
       "</style>\n",
       "<table border=\"1\" class=\"dataframe\">\n",
       "  <thead>\n",
       "    <tr style=\"text-align: right;\">\n",
       "      <th>isced11</th>\n",
       "      <th>index</th>\n",
       "      <th>ED0-2</th>\n",
       "      <th>ED3_4</th>\n",
       "      <th>ED5-8</th>\n",
       "    </tr>\n",
       "  </thead>\n",
       "  <tbody>\n",
       "    <tr>\n",
       "      <th>0</th>\n",
       "      <td>2005</td>\n",
       "      <td>51.9</td>\n",
       "      <td>69.6</td>\n",
       "      <td>82.8</td>\n",
       "    </tr>\n",
       "    <tr>\n",
       "      <th>1</th>\n",
       "      <td>2006</td>\n",
       "      <td>54.1</td>\n",
       "      <td>71.4</td>\n",
       "      <td>84.2</td>\n",
       "    </tr>\n",
       "    <tr>\n",
       "      <th>2</th>\n",
       "      <td>2007</td>\n",
       "      <td>55.0</td>\n",
       "      <td>73.3</td>\n",
       "      <td>85.4</td>\n",
       "    </tr>\n",
       "    <tr>\n",
       "      <th>3</th>\n",
       "      <td>2008</td>\n",
       "      <td>55.9</td>\n",
       "      <td>74.2</td>\n",
       "      <td>85.7</td>\n",
       "    </tr>\n",
       "    <tr>\n",
       "      <th>4</th>\n",
       "      <td>2009</td>\n",
       "      <td>55.7</td>\n",
       "      <td>74.1</td>\n",
       "      <td>86.3</td>\n",
       "    </tr>\n",
       "    <tr>\n",
       "      <th>5</th>\n",
       "      <td>2010</td>\n",
       "      <td>56.1</td>\n",
       "      <td>74.9</td>\n",
       "      <td>86.8</td>\n",
       "    </tr>\n",
       "    <tr>\n",
       "      <th>6</th>\n",
       "      <td>2011</td>\n",
       "      <td>57.4</td>\n",
       "      <td>76.3</td>\n",
       "      <td>87.8</td>\n",
       "    </tr>\n",
       "    <tr>\n",
       "      <th>7</th>\n",
       "      <td>2012</td>\n",
       "      <td>57.8</td>\n",
       "      <td>76.8</td>\n",
       "      <td>87.7</td>\n",
       "    </tr>\n",
       "    <tr>\n",
       "      <th>8</th>\n",
       "      <td>2013</td>\n",
       "      <td>58.3</td>\n",
       "      <td>77.3</td>\n",
       "      <td>87.6</td>\n",
       "    </tr>\n",
       "    <tr>\n",
       "      <th>9</th>\n",
       "      <td>2014</td>\n",
       "      <td>58.0</td>\n",
       "      <td>78.1</td>\n",
       "      <td>87.7</td>\n",
       "    </tr>\n",
       "    <tr>\n",
       "      <th>10</th>\n",
       "      <td>2015</td>\n",
       "      <td>58.5</td>\n",
       "      <td>78.4</td>\n",
       "      <td>87.8</td>\n",
       "    </tr>\n",
       "    <tr>\n",
       "      <th>11</th>\n",
       "      <td>2016</td>\n",
       "      <td>58.9</td>\n",
       "      <td>79.3</td>\n",
       "      <td>87.9</td>\n",
       "    </tr>\n",
       "    <tr>\n",
       "      <th>12</th>\n",
       "      <td>2017</td>\n",
       "      <td>59.6</td>\n",
       "      <td>80.0</td>\n",
       "      <td>88.1</td>\n",
       "    </tr>\n",
       "    <tr>\n",
       "      <th>13</th>\n",
       "      <td>2018</td>\n",
       "      <td>60.7</td>\n",
       "      <td>80.7</td>\n",
       "      <td>88.5</td>\n",
       "    </tr>\n",
       "    <tr>\n",
       "      <th>14</th>\n",
       "      <td>2019</td>\n",
       "      <td>61.8</td>\n",
       "      <td>81.3</td>\n",
       "      <td>89.0</td>\n",
       "    </tr>\n",
       "  </tbody>\n",
       "</table>\n",
       "</div>"
      ],
      "text/plain": [
       "isced11 index  ED0-2  ED3_4  ED5-8\n",
       "0        2005   51.9   69.6   82.8\n",
       "1        2006   54.1   71.4   84.2\n",
       "2        2007   55.0   73.3   85.4\n",
       "3        2008   55.9   74.2   85.7\n",
       "4        2009   55.7   74.1   86.3\n",
       "5        2010   56.1   74.9   86.8\n",
       "6        2011   57.4   76.3   87.8\n",
       "7        2012   57.8   76.8   87.7\n",
       "8        2013   58.3   77.3   87.6\n",
       "9        2014   58.0   78.1   87.7\n",
       "10       2015   58.5   78.4   87.8\n",
       "11       2016   58.9   79.3   87.9\n",
       "12       2017   59.6   80.0   88.1\n",
       "13       2018   60.7   80.7   88.5\n",
       "14       2019   61.8   81.3   89.0"
      ]
     },
     "execution_count": 16,
     "metadata": {},
     "output_type": "execute_result"
    }
   ],
   "source": [
    "df_germany"
   ]
  },
  {
   "cell_type": "code",
   "execution_count": 17,
   "metadata": {},
   "outputs": [],
   "source": [
    "df_germany.rename(columns={\"index\":\"year\"}, inplace=True)"
   ]
  },
  {
   "cell_type": "code",
   "execution_count": 18,
   "metadata": {},
   "outputs": [
    {
     "data": {
      "text/html": [
       "<div>\n",
       "<style scoped>\n",
       "    .dataframe tbody tr th:only-of-type {\n",
       "        vertical-align: middle;\n",
       "    }\n",
       "\n",
       "    .dataframe tbody tr th {\n",
       "        vertical-align: top;\n",
       "    }\n",
       "\n",
       "    .dataframe thead th {\n",
       "        text-align: right;\n",
       "    }\n",
       "</style>\n",
       "<table border=\"1\" class=\"dataframe\">\n",
       "  <thead>\n",
       "    <tr style=\"text-align: right;\">\n",
       "      <th>isced11</th>\n",
       "      <th>year</th>\n",
       "      <th>ED0-2</th>\n",
       "      <th>ED3_4</th>\n",
       "      <th>ED5-8</th>\n",
       "    </tr>\n",
       "  </thead>\n",
       "  <tbody>\n",
       "    <tr>\n",
       "      <th>0</th>\n",
       "      <td>2005</td>\n",
       "      <td>51.9</td>\n",
       "      <td>69.6</td>\n",
       "      <td>82.8</td>\n",
       "    </tr>\n",
       "    <tr>\n",
       "      <th>1</th>\n",
       "      <td>2006</td>\n",
       "      <td>54.1</td>\n",
       "      <td>71.4</td>\n",
       "      <td>84.2</td>\n",
       "    </tr>\n",
       "    <tr>\n",
       "      <th>2</th>\n",
       "      <td>2007</td>\n",
       "      <td>55.0</td>\n",
       "      <td>73.3</td>\n",
       "      <td>85.4</td>\n",
       "    </tr>\n",
       "    <tr>\n",
       "      <th>3</th>\n",
       "      <td>2008</td>\n",
       "      <td>55.9</td>\n",
       "      <td>74.2</td>\n",
       "      <td>85.7</td>\n",
       "    </tr>\n",
       "    <tr>\n",
       "      <th>4</th>\n",
       "      <td>2009</td>\n",
       "      <td>55.7</td>\n",
       "      <td>74.1</td>\n",
       "      <td>86.3</td>\n",
       "    </tr>\n",
       "    <tr>\n",
       "      <th>5</th>\n",
       "      <td>2010</td>\n",
       "      <td>56.1</td>\n",
       "      <td>74.9</td>\n",
       "      <td>86.8</td>\n",
       "    </tr>\n",
       "    <tr>\n",
       "      <th>6</th>\n",
       "      <td>2011</td>\n",
       "      <td>57.4</td>\n",
       "      <td>76.3</td>\n",
       "      <td>87.8</td>\n",
       "    </tr>\n",
       "    <tr>\n",
       "      <th>7</th>\n",
       "      <td>2012</td>\n",
       "      <td>57.8</td>\n",
       "      <td>76.8</td>\n",
       "      <td>87.7</td>\n",
       "    </tr>\n",
       "    <tr>\n",
       "      <th>8</th>\n",
       "      <td>2013</td>\n",
       "      <td>58.3</td>\n",
       "      <td>77.3</td>\n",
       "      <td>87.6</td>\n",
       "    </tr>\n",
       "    <tr>\n",
       "      <th>9</th>\n",
       "      <td>2014</td>\n",
       "      <td>58.0</td>\n",
       "      <td>78.1</td>\n",
       "      <td>87.7</td>\n",
       "    </tr>\n",
       "    <tr>\n",
       "      <th>10</th>\n",
       "      <td>2015</td>\n",
       "      <td>58.5</td>\n",
       "      <td>78.4</td>\n",
       "      <td>87.8</td>\n",
       "    </tr>\n",
       "    <tr>\n",
       "      <th>11</th>\n",
       "      <td>2016</td>\n",
       "      <td>58.9</td>\n",
       "      <td>79.3</td>\n",
       "      <td>87.9</td>\n",
       "    </tr>\n",
       "    <tr>\n",
       "      <th>12</th>\n",
       "      <td>2017</td>\n",
       "      <td>59.6</td>\n",
       "      <td>80.0</td>\n",
       "      <td>88.1</td>\n",
       "    </tr>\n",
       "    <tr>\n",
       "      <th>13</th>\n",
       "      <td>2018</td>\n",
       "      <td>60.7</td>\n",
       "      <td>80.7</td>\n",
       "      <td>88.5</td>\n",
       "    </tr>\n",
       "    <tr>\n",
       "      <th>14</th>\n",
       "      <td>2019</td>\n",
       "      <td>61.8</td>\n",
       "      <td>81.3</td>\n",
       "      <td>89.0</td>\n",
       "    </tr>\n",
       "  </tbody>\n",
       "</table>\n",
       "</div>"
      ],
      "text/plain": [
       "isced11  year  ED0-2  ED3_4  ED5-8\n",
       "0        2005   51.9   69.6   82.8\n",
       "1        2006   54.1   71.4   84.2\n",
       "2        2007   55.0   73.3   85.4\n",
       "3        2008   55.9   74.2   85.7\n",
       "4        2009   55.7   74.1   86.3\n",
       "5        2010   56.1   74.9   86.8\n",
       "6        2011   57.4   76.3   87.8\n",
       "7        2012   57.8   76.8   87.7\n",
       "8        2013   58.3   77.3   87.6\n",
       "9        2014   58.0   78.1   87.7\n",
       "10       2015   58.5   78.4   87.8\n",
       "11       2016   58.9   79.3   87.9\n",
       "12       2017   59.6   80.0   88.1\n",
       "13       2018   60.7   80.7   88.5\n",
       "14       2019   61.8   81.3   89.0"
      ]
     },
     "execution_count": 18,
     "metadata": {},
     "output_type": "execute_result"
    }
   ],
   "source": [
    "df_germany "
   ]
  },
  {
   "cell_type": "markdown",
   "metadata": {},
   "source": [
    "Plotting"
   ]
  },
  {
   "cell_type": "markdown",
   "metadata": {},
   "source": [
    "ED0-2: Less than primary, primary and lower secundary education (level 0-2)"
   ]
  },
  {
   "cell_type": "code",
   "execution_count": 35,
   "metadata": {},
   "outputs": [
    {
     "data": {
      "image/png": "[encoded data removed]",
      "text/plain": [
       "<Figure size 1224x576 with 1 Axes>"
      ]
     },
     "metadata": {
      "needs_background": "light"
     },
     "output_type": "display_data"
    }
   ],
   "source": [
    "fig, ax = plt.pyplot.subplots(figsize=(17,8))\n",
    "\n",
    "sns.lineplot(data=df_germany,\n",
    "             x=\"year\",\n",
    "             y=\"ED0-2\",\n",
    "             color=\"pink\");"
   ]
  },
  {
   "cell_type": "markdown",
   "metadata": {},
   "source": [
    "ED3_4: Upper secondary and post-secundary non-tertiary education (level 3-4)"
   ]
  },
  {
   "cell_type": "code",
   "execution_count": 34,
   "metadata": {},
   "outputs": [
    {
     "data": {
      "image/png": "[encoded data removed]",
      "text/plain": [
       "<Figure size 1224x576 with 1 Axes>"
      ]
     },
     "metadata": {
      "needs_background": "light"
     },
     "output_type": "display_data"
    }
   ],
   "source": [
    "ig, ax = plt.pyplot.subplots(figsize=(17,8))\n",
    "\n",
    "sns.lineplot(data=df_germany,\n",
    "             x=\"year\",\n",
    "             y=\"ED3_4\",\n",
    "             color=\"magenta\");"
   ]
  },
  {
   "cell_type": "markdown",
   "metadata": {},
   "source": [
    "ED5-8: Tertiary education (level 5-8)"
   ]
  },
  {
   "cell_type": "code",
   "execution_count": 21,
   "metadata": {},
   "outputs": [
    {
     "data": {
      "image/png": "[encoded data removed]",
      "text/plain": [
       "<Figure size 1224x576 with 1 Axes>"
      ]
     },
     "metadata": {
      "needs_background": "light"
     },
     "output_type": "display_data"
    }
   ],
   "source": [
    "fig, ax = plt.pyplot.subplots(figsize=(17,8))\n",
    "\n",
    "sns.lineplot(data=df_germany,\n",
    "             x=\"year\",\n",
    "             y=\"ED5-8\",\n",
    "             color=\"purple\");"
   ]
  },
  {
   "cell_type": "markdown",
   "metadata": {},
   "source": [
    "All 3 education levels in 1 plot"
   ]
  },
  {
   "cell_type": "code",
   "execution_count": 33,
   "metadata": {
    "scrolled": true
   },
   "outputs": [
    {
     "data": {
      "text/plain": [
       "<matplotlib.legend.Legend at 0x7fdb27170af0>"
      ]
     },
     "execution_count": 33,
     "metadata": {},
     "output_type": "execute_result"
    },
    {
     "data": {
      "image/png": "[encoded data removed]",
      "text/plain": [
       "<Figure size 1224x576 with 1 Axes>"
      ]
     },
     "metadata": {
      "needs_background": "light"
     },
     "output_type": "display_data"
    }
   ],
   "source": [
    "fig, ax = plt.pyplot.subplots(figsize=(17,8))\n",
    "\n",
    "plt.pyplot.title(\"Employment rate by education level in Germany \", fontsize=20)\n",
    "plt.pyplot.xlabel(\"Year\", fontsize=12)\n",
    "plt.pyplot.ylabel(\"Percentage\", fontsize=12)\n",
    "ax.plot(\"year\", \"ED0-2\", data=df_germany, color='pink', linewidth=2, label=\"ED0-2\")\n",
    "ax.plot(\"year\", \"ED3_4\", data=df_germany, color='magenta', linewidth=2, label=\"ED3_4\")\n",
    "ax.plot(\"year\", \"ED5-8\", data=df_germany, color='purple', linewidth=2, label=\"ED5-8\")\n",
    "plt.pyplot.legend()\n"
   ]
  },
  {
   "cell_type": "markdown",
   "metadata": {},
   "source": [
    "People with a lower education level have the lowest employment rate, compared with medium and higher education. The gap between lower education and the other levels is larger than between medium and higher education. The employment rate of all three education levels is going up. It even looks like the gap between the medium and higher education levels are becoming smaller over time. "
   ]
  },
  {
   "cell_type": "code",
   "execution_count": 32,
   "metadata": {},
   "outputs": [
    {
     "data": {
      "image/png": "[encoded data removed]",
      "text/plain": [
       "<Figure size 1224x576 with 1 Axes>"
      ]
     },
     "metadata": {
      "needs_background": "light"
     },
     "output_type": "display_data"
    }
   ],
   "source": [
    "fig, ax = plt.pyplot.subplots(figsize=(17,8))\n",
    "\n",
    "# Values of each group\n",
    "bars1 = df_germany[\"ED0-2\"]\n",
    "bars2 = df_germany[\"ED3_4\"]\n",
    "bars3 = df_germany[\"ED5-8\"]\n",
    " \n",
    "# Heights of bars1 + bars2\n",
    "bars = np.add(bars1, bars2).tolist()\n",
    " \n",
    "# The position of the bars on the x-axis\n",
    "r = [0,1,2,3,4,5,6,7,8,9,10,11,12,13,14]\n",
    " \n",
    "# Names of group and bar width\n",
    "names = ['2005','2006','2007','2008','2009', '2010', '2011', \n",
    "         '2012', '2013', '2014', '2015', '2016', '2017', '2018', '2019']\n",
    "barWidth = 1\n",
    " \n",
    "plt.pyplot.title(\"Employment rate by education level in Germany\", fontsize=20)\n",
    "# Create brown bars\n",
    "plt.pyplot.bar(r, bars1, color='purple', edgecolor='white', width=barWidth)\n",
    "# Create green bars (middle), on top of the firs ones\n",
    "plt.pyplot.bar(r, bars2, bottom=bars1, color='magenta', edgecolor='white', width=barWidth)\n",
    "# Create green bars (top)\n",
    "plt.pyplot.bar(r, bars3, bottom=bars, color='pink', edgecolor='white', width=barWidth)\n",
    " \n",
    "# Custom X axis\n",
    "plt.pyplot.xticks(r, names, fontweight='bold')\n",
    "plt.pyplot.xlabel(\"Year\",fontsize=12)\n",
    " \n",
    "# Show graphic\n",
    "plt.pyplot.show()\n"
   ]
  },
  {
   "cell_type": "markdown",
   "metadata": {},
   "source": [
    "Since we are mainly focused on unemployment rate, we decided to do 100 - employment rate for simplicity reasons. We are aware that in the real life this isn't such an easy calculation, and we are aware that this ignores various factors. "
   ]
  },
  {
   "cell_type": "code",
   "execution_count": 24,
   "metadata": {},
   "outputs": [],
   "source": [
    "df_germany['ED0-2low'] = (100 - df_germany[\"ED0-2\"])\n",
    "df_germany['ED3_4medium'] = (100 - df_germany[\"ED3_4\"])\n",
    "df_germany['ED5-8high'] = (100 - df_germany[\"ED5-8\"])"
   ]
  },
  {
   "cell_type": "code",
   "execution_count": 25,
   "metadata": {},
   "outputs": [
    {
     "data": {
      "text/html": [
       "<div>\n",
       "<style scoped>\n",
       "    .dataframe tbody tr th:only-of-type {\n",
       "        vertical-align: middle;\n",
       "    }\n",
       "\n",
       "    .dataframe tbody tr th {\n",
       "        vertical-align: top;\n",
       "    }\n",
       "\n",
       "    .dataframe thead th {\n",
       "        text-align: right;\n",
       "    }\n",
       "</style>\n",
       "<table border=\"1\" class=\"dataframe\">\n",
       "  <thead>\n",
       "    <tr style=\"text-align: right;\">\n",
       "      <th>isced11</th>\n",
       "      <th>year</th>\n",
       "      <th>ED0-2</th>\n",
       "      <th>ED3_4</th>\n",
       "      <th>ED5-8</th>\n",
       "      <th>ED0-2low</th>\n",
       "      <th>ED3_4medium</th>\n",
       "      <th>ED5-8high</th>\n",
       "    </tr>\n",
       "  </thead>\n",
       "  <tbody>\n",
       "    <tr>\n",
       "      <th>0</th>\n",
       "      <td>2005</td>\n",
       "      <td>51.9</td>\n",
       "      <td>69.6</td>\n",
       "      <td>82.8</td>\n",
       "      <td>48.1</td>\n",
       "      <td>30.4</td>\n",
       "      <td>17.2</td>\n",
       "    </tr>\n",
       "    <tr>\n",
       "      <th>1</th>\n",
       "      <td>2006</td>\n",
       "      <td>54.1</td>\n",
       "      <td>71.4</td>\n",
       "      <td>84.2</td>\n",
       "      <td>45.9</td>\n",
       "      <td>28.6</td>\n",
       "      <td>15.8</td>\n",
       "    </tr>\n",
       "    <tr>\n",
       "      <th>2</th>\n",
       "      <td>2007</td>\n",
       "      <td>55.0</td>\n",
       "      <td>73.3</td>\n",
       "      <td>85.4</td>\n",
       "      <td>45.0</td>\n",
       "      <td>26.7</td>\n",
       "      <td>14.6</td>\n",
       "    </tr>\n",
       "    <tr>\n",
       "      <th>3</th>\n",
       "      <td>2008</td>\n",
       "      <td>55.9</td>\n",
       "      <td>74.2</td>\n",
       "      <td>85.7</td>\n",
       "      <td>44.1</td>\n",
       "      <td>25.8</td>\n",
       "      <td>14.3</td>\n",
       "    </tr>\n",
       "    <tr>\n",
       "      <th>4</th>\n",
       "      <td>2009</td>\n",
       "      <td>55.7</td>\n",
       "      <td>74.1</td>\n",
       "      <td>86.3</td>\n",
       "      <td>44.3</td>\n",
       "      <td>25.9</td>\n",
       "      <td>13.7</td>\n",
       "    </tr>\n",
       "    <tr>\n",
       "      <th>5</th>\n",
       "      <td>2010</td>\n",
       "      <td>56.1</td>\n",
       "      <td>74.9</td>\n",
       "      <td>86.8</td>\n",
       "      <td>43.9</td>\n",
       "      <td>25.1</td>\n",
       "      <td>13.2</td>\n",
       "    </tr>\n",
       "    <tr>\n",
       "      <th>6</th>\n",
       "      <td>2011</td>\n",
       "      <td>57.4</td>\n",
       "      <td>76.3</td>\n",
       "      <td>87.8</td>\n",
       "      <td>42.6</td>\n",
       "      <td>23.7</td>\n",
       "      <td>12.2</td>\n",
       "    </tr>\n",
       "    <tr>\n",
       "      <th>7</th>\n",
       "      <td>2012</td>\n",
       "      <td>57.8</td>\n",
       "      <td>76.8</td>\n",
       "      <td>87.7</td>\n",
       "      <td>42.2</td>\n",
       "      <td>23.2</td>\n",
       "      <td>12.3</td>\n",
       "    </tr>\n",
       "    <tr>\n",
       "      <th>8</th>\n",
       "      <td>2013</td>\n",
       "      <td>58.3</td>\n",
       "      <td>77.3</td>\n",
       "      <td>87.6</td>\n",
       "      <td>41.7</td>\n",
       "      <td>22.7</td>\n",
       "      <td>12.4</td>\n",
       "    </tr>\n",
       "    <tr>\n",
       "      <th>9</th>\n",
       "      <td>2014</td>\n",
       "      <td>58.0</td>\n",
       "      <td>78.1</td>\n",
       "      <td>87.7</td>\n",
       "      <td>42.0</td>\n",
       "      <td>21.9</td>\n",
       "      <td>12.3</td>\n",
       "    </tr>\n",
       "    <tr>\n",
       "      <th>10</th>\n",
       "      <td>2015</td>\n",
       "      <td>58.5</td>\n",
       "      <td>78.4</td>\n",
       "      <td>87.8</td>\n",
       "      <td>41.5</td>\n",
       "      <td>21.6</td>\n",
       "      <td>12.2</td>\n",
       "    </tr>\n",
       "    <tr>\n",
       "      <th>11</th>\n",
       "      <td>2016</td>\n",
       "      <td>58.9</td>\n",
       "      <td>79.3</td>\n",
       "      <td>87.9</td>\n",
       "      <td>41.1</td>\n",
       "      <td>20.7</td>\n",
       "      <td>12.1</td>\n",
       "    </tr>\n",
       "    <tr>\n",
       "      <th>12</th>\n",
       "      <td>2017</td>\n",
       "      <td>59.6</td>\n",
       "      <td>80.0</td>\n",
       "      <td>88.1</td>\n",
       "      <td>40.4</td>\n",
       "      <td>20.0</td>\n",
       "      <td>11.9</td>\n",
       "    </tr>\n",
       "    <tr>\n",
       "      <th>13</th>\n",
       "      <td>2018</td>\n",
       "      <td>60.7</td>\n",
       "      <td>80.7</td>\n",
       "      <td>88.5</td>\n",
       "      <td>39.3</td>\n",
       "      <td>19.3</td>\n",
       "      <td>11.5</td>\n",
       "    </tr>\n",
       "    <tr>\n",
       "      <th>14</th>\n",
       "      <td>2019</td>\n",
       "      <td>61.8</td>\n",
       "      <td>81.3</td>\n",
       "      <td>89.0</td>\n",
       "      <td>38.2</td>\n",
       "      <td>18.7</td>\n",
       "      <td>11.0</td>\n",
       "    </tr>\n",
       "  </tbody>\n",
       "</table>\n",
       "</div>"
      ],
      "text/plain": [
       "isced11  year  ED0-2  ED3_4  ED5-8  ED0-2low  ED3_4medium  ED5-8high\n",
       "0        2005   51.9   69.6   82.8      48.1         30.4       17.2\n",
       "1        2006   54.1   71.4   84.2      45.9         28.6       15.8\n",
       "2        2007   55.0   73.3   85.4      45.0         26.7       14.6\n",
       "3        2008   55.9   74.2   85.7      44.1         25.8       14.3\n",
       "4        2009   55.7   74.1   86.3      44.3         25.9       13.7\n",
       "5        2010   56.1   74.9   86.8      43.9         25.1       13.2\n",
       "6        2011   57.4   76.3   87.8      42.6         23.7       12.2\n",
       "7        2012   57.8   76.8   87.7      42.2         23.2       12.3\n",
       "8        2013   58.3   77.3   87.6      41.7         22.7       12.4\n",
       "9        2014   58.0   78.1   87.7      42.0         21.9       12.3\n",
       "10       2015   58.5   78.4   87.8      41.5         21.6       12.2\n",
       "11       2016   58.9   79.3   87.9      41.1         20.7       12.1\n",
       "12       2017   59.6   80.0   88.1      40.4         20.0       11.9\n",
       "13       2018   60.7   80.7   88.5      39.3         19.3       11.5\n",
       "14       2019   61.8   81.3   89.0      38.2         18.7       11.0"
      ]
     },
     "execution_count": 25,
     "metadata": {},
     "output_type": "execute_result"
    }
   ],
   "source": [
    "df_germany"
   ]
  },
  {
   "cell_type": "code",
   "execution_count": 30,
   "metadata": {},
   "outputs": [
    {
     "data": {
      "text/plain": [
       "<matplotlib.legend.Legend at 0x7fdb27d032e0>"
      ]
     },
     "execution_count": 30,
     "metadata": {},
     "output_type": "execute_result"
    },
    {
     "data": {
      "image/png": "[encoded data removed]",
      "text/plain": [
       "<Figure size 1224x576 with 1 Axes>"
      ]
     },
     "metadata": {
      "needs_background": "light"
     },
     "output_type": "display_data"
    }
   ],
   "source": [
    "fig, ax = plt.pyplot.subplots(figsize=(17,8))\n",
    "\n",
    "plt.pyplot.title(\"Unemployment rate by education level in Germany\", fontsize=20)\n",
    "plt.pyplot.xlabel(\"Year\", fontsize=12)\n",
    "plt.pyplot.ylabel(\"Percentage\", fontsize=12)\n",
    "ax.plot(\"year\", \"ED0-2low\", data=df_germany, color='pink', linewidth=2, label=\"ED0-2\")\n",
    "ax.plot(\"year\", \"ED3_4medium\", data=df_germany, color='magenta', linewidth=2, label=\"ED3_4\")\n",
    "ax.plot(\"year\", \"ED5-8high\", data=df_germany, color='purple', linewidth=2, label=\"ED5-8\")\n",
    "plt.pyplot.legend()\n"
   ]
  },
  {
   "cell_type": "markdown",
   "metadata": {},
   "source": [
    "The lowest unemployment rate is among people with higher education, the highest unemployment rate is among people with lower education. People with higher education have a lower unemployment than other people with other education levels. Overall it seems that the unemployment rate is decreasing over time"
   ]
  },
  {
   "cell_type": "code",
   "execution_count": 29,
   "metadata": {
    "scrolled": true
   },
   "outputs": [
    {
     "data": {
      "image/png": "[encoded data removed]",
      "text/plain": [
       "<Figure size 1224x576 with 1 Axes>"
      ]
     },
     "metadata": {
      "needs_background": "light"
     },
     "output_type": "display_data"
    }
   ],
   "source": [
    "fig, ax = plt.pyplot.subplots(figsize=(17,8))\n",
    "\n",
    "# Values of each group\n",
    "bars1 = df_germany[\"ED0-2low\"]\n",
    "bars2 = df_germany[\"ED3_4medium\"]\n",
    "bars3 = df_germany[\"ED5-8high\"]\n",
    " \n",
    "# Heights of bars1 + bars2\n",
    "bars = np.add(bars1, bars2).tolist()\n",
    " \n",
    "# The position of the bars on the x-axis\n",
    "r = [0,1,2,3,4,5,6,7,8,9,10,11,12,13,14]\n",
    " \n",
    "# Names of group and bar width\n",
    "names = ['2005','2006','2007','2008','2009', '2010', '2011', \n",
    "         '2012', '2013', '2014', '2015', '2016', '2017', '2018', '2019']\n",
    "barWidth = 1\n",
    " \n",
    "plt.pyplot.title(\"Unemployment rate by education level in Germany\", fontsize=20)\n",
    "# Create brown bars\n",
    "plt.pyplot.bar(r, bars1, color='pink', edgecolor='white', width=barWidth)\n",
    "# Create green bars (middle), on top of the firs ones\n",
    "plt.pyplot.bar(r, bars2, bottom=bars1, color='magenta', edgecolor='white', width=barWidth)\n",
    "# Create green bars (top)\n",
    "plt.pyplot.bar(r, bars3, bottom=bars, color='purple', edgecolor='white', width=barWidth)\n",
    " \n",
    "# Custom X axis\n",
    "plt.pyplot.xticks(r, names, fontweight='bold')\n",
    "plt.pyplot.xlabel(\"Year\",fontsize=12)\n",
    " \n",
    "# Show graphic\n",
    "plt.pyplot.show()\n"
   ]
  },
  {
   "cell_type": "code",
   "execution_count": 28,
   "metadata": {},
   "outputs": [],
   "source": [
    "df_germany.to_pickle(\"../data/output/education_employment_rate_germany.pkl\")"
   ]
  },
  {
   "cell_type": "code",
   "execution_count": null,
   "metadata": {},
   "outputs": [],
   "source": []
  },
  {
   "cell_type": "code",
   "execution_count": null,
   "metadata": {},
   "outputs": [],
   "source": []
  }
 ],
 "metadata": {
  "kernelspec": {
   "display_name": "Python 3",
   "language": "python",
   "name": "python3"
  },
  "language_info": {
   "codemirror_mode": {
    "name": "ipython",
    "version": 3
   },
   "file_extension": ".py",
   "mimetype": "text/x-python",
   "name": "python",
   "nbconvert_exporter": "python",
   "pygments_lexer": "ipython3",
   "version": "3.8.5"
  }
 },
 "nbformat": 4,
 "nbformat_minor": 4
}

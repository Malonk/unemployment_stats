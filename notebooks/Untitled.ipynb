{
 "cells": [
  {
   "cell_type": "code",
   "execution_count": 3,
   "metadata": {},
   "outputs": [
    {
     "data": {
      "text/plain": [
       "['..\\\\data\\\\tsv\\\\sdg_08_40.tsv',\n",
       " '..\\\\data\\\\tsv\\\\t2020_10.tsv',\n",
       " '..\\\\data\\\\tsv\\\\teilm010.tsv',\n",
       " '..\\\\data\\\\tsv\\\\teilm011.tsv',\n",
       " '..\\\\data\\\\tsv\\\\teilm012.tsv',\n",
       " '..\\\\data\\\\tsv\\\\teilm020.tsv',\n",
       " '..\\\\data\\\\tsv\\\\teilm021.tsv',\n",
       " '..\\\\data\\\\tsv\\\\teilm022.tsv',\n",
       " '..\\\\data\\\\tsv\\\\tepsr_wc120.tsv',\n",
       " '..\\\\data\\\\tsv\\\\tgs00007.tsv',\n",
       " '..\\\\data\\\\tsv\\\\tgs00010.tsv',\n",
       " '..\\\\data\\\\tsv\\\\tgs00053.tsv',\n",
       " '..\\\\data\\\\tsv\\\\tgs00102.tsv',\n",
       " '..\\\\data\\\\tsv\\\\tps00066.tsv',\n",
       " '..\\\\data\\\\tsv\\\\tps00070.tsv',\n",
       " '..\\\\data\\\\tsv\\\\tps00071.tsv',\n",
       " '..\\\\data\\\\tsv\\\\tps00073.tsv',\n",
       " '..\\\\data\\\\tsv\\\\tps00074.tsv',\n",
       " '..\\\\data\\\\tsv\\\\tps00159.tsv',\n",
       " '..\\\\data\\\\tsv\\\\tps00181.tsv',\n",
       " '..\\\\data\\\\tsv\\\\tps00182.tsv',\n",
       " '..\\\\data\\\\tsv\\\\tps00203.tsv']"
      ]
     },
     "execution_count": 3,
     "metadata": {},
     "output_type": "execute_result"
    }
   ],
   "source": [
    "import os\n",
    "\n",
    "def list_tsv():\n",
    "    \"\"\"Return list of tsv files\"\"\"\n",
    "    base = os.path.join(os.pardir, \"data\")\n",
    "    return [os.path.join(base, \"tsv\", x) \n",
    "            for x in os.listdir(os.path.join(base, \"tsv\"))]\n",
    "list_tsv()"
   ]
  },
  {
   "cell_type": "code",
   "execution_count": null,
   "metadata": {},
   "outputs": [],
   "source": []
  }
 ],
 "metadata": {
  "kernelspec": {
   "display_name": "Python 3",
   "language": "python",
   "name": "python3"
  },
  "language_info": {
   "codemirror_mode": {
    "name": "ipython",
    "version": 3
   },
   "file_extension": ".py",
   "mimetype": "text/x-python",
   "name": "python",
   "nbconvert_exporter": "python",
   "pygments_lexer": "ipython3",
   "version": "3.8.5"
  }
 },
 "nbformat": 4,
 "nbformat_minor": 4
}

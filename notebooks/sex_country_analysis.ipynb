{
 "cells": [
  {
   "cell_type": "markdown",
   "metadata": {},
   "source": [
    "# Analyze influence of gender\n",
    "In this notebook we investigate what the correlation is between the difference in gender, on the rate of unemployment."
   ]
  },
  {
   "cell_type": "code",
   "execution_count": 30,
   "metadata": {},
   "outputs": [],
   "source": [
    "import os\n",
    "\n",
    "import pandas as pd\n",
    "import numpy as np\n",
    "import matplotlib as plt\n",
    "import seaborn as sns\n",
    "%matplotlib inline\n",
    "\n",
    "BASE = os.path.join(os.pardir, \"data\", \"output\")"
   ]
  },
  {
   "cell_type": "code",
   "execution_count": 19,
   "metadata": {},
   "outputs": [],
   "source": [
    "# Import file\n",
    "df = pd.read_pickle(os.path.join(BASE, \"filtered_sex_country.pkl\")\n",
    "df_t = df.copy()"
   ]
  },
  {
   "cell_type": "markdown",
   "metadata": {},
   "source": [
    "Let's check the data"
   ]
  },
  {
   "cell_type": "code",
   "execution_count": 6,
   "metadata": {},
   "outputs": [
    {
     "data": {
      "text/html": [
       "<div>\n",
       "<style scoped>\n",
       "    .dataframe tbody tr th:only-of-type {\n",
       "        vertical-align: middle;\n",
       "    }\n",
       "\n",
       "    .dataframe tbody tr th {\n",
       "        vertical-align: top;\n",
       "    }\n",
       "\n",
       "    .dataframe thead th {\n",
       "        text-align: right;\n",
       "    }\n",
       "</style>\n",
       "<table border=\"1\" class=\"dataframe\">\n",
       "  <thead>\n",
       "    <tr style=\"text-align: right;\">\n",
       "      <th>sex</th>\n",
       "      <th>F</th>\n",
       "      <th>M</th>\n",
       "      <th>T</th>\n",
       "    </tr>\n",
       "    <tr>\n",
       "      <th>geo</th>\n",
       "      <th></th>\n",
       "      <th></th>\n",
       "      <th></th>\n",
       "    </tr>\n",
       "  </thead>\n",
       "  <tbody>\n",
       "    <tr>\n",
       "      <th>AT</th>\n",
       "      <td>3.83</td>\n",
       "      <td>4.15</td>\n",
       "      <td>4.01</td>\n",
       "    </tr>\n",
       "    <tr>\n",
       "      <th>BE</th>\n",
       "      <td>4.24</td>\n",
       "      <td>4.83</td>\n",
       "      <td>4.56</td>\n",
       "    </tr>\n",
       "    <tr>\n",
       "      <th>BG</th>\n",
       "      <td>3.75</td>\n",
       "      <td>4.25</td>\n",
       "      <td>4.03</td>\n",
       "    </tr>\n",
       "    <tr>\n",
       "      <th>CH</th>\n",
       "      <td>3.96</td>\n",
       "      <td>3.71</td>\n",
       "      <td>3.81</td>\n",
       "    </tr>\n",
       "    <tr>\n",
       "      <th>CY</th>\n",
       "      <td>6.38</td>\n",
       "      <td>5.63</td>\n",
       "      <td>6.00</td>\n",
       "    </tr>\n",
       "  </tbody>\n",
       "</table>\n",
       "</div>"
      ],
      "text/plain": [
       "sex     F     M     T\n",
       "geo                  \n",
       "AT   3.83  4.15  4.01\n",
       "BE   4.24  4.83  4.56\n",
       "BG   3.75  4.25  4.03\n",
       "CH   3.96  3.71  3.81\n",
       "CY   6.38  5.63  6.00"
      ]
     },
     "execution_count": 6,
     "metadata": {},
     "output_type": "execute_result"
    }
   ],
   "source": [
    "df.head()"
   ]
  },
  {
   "cell_type": "markdown",
   "metadata": {},
   "source": [
    "Prefer to work with a column instead of an index"
   ]
  },
  {
   "cell_type": "code",
   "execution_count": 3,
   "metadata": {},
   "outputs": [],
   "source": [
    "df.reset_index(inplace=True)"
   ]
  },
  {
   "cell_type": "code",
   "execution_count": 4,
   "metadata": {},
   "outputs": [
    {
     "data": {
      "text/html": [
       "<div>\n",
       "<style scoped>\n",
       "    .dataframe tbody tr th:only-of-type {\n",
       "        vertical-align: middle;\n",
       "    }\n",
       "\n",
       "    .dataframe tbody tr th {\n",
       "        vertical-align: top;\n",
       "    }\n",
       "\n",
       "    .dataframe thead th {\n",
       "        text-align: right;\n",
       "    }\n",
       "</style>\n",
       "<table border=\"1\" class=\"dataframe\">\n",
       "  <thead>\n",
       "    <tr style=\"text-align: right;\">\n",
       "      <th>sex</th>\n",
       "      <th>geo</th>\n",
       "      <th>F</th>\n",
       "      <th>M</th>\n",
       "      <th>T</th>\n",
       "    </tr>\n",
       "  </thead>\n",
       "  <tbody>\n",
       "    <tr>\n",
       "      <th>0</th>\n",
       "      <td>AT</td>\n",
       "      <td>3.83</td>\n",
       "      <td>4.15</td>\n",
       "      <td>4.01</td>\n",
       "    </tr>\n",
       "    <tr>\n",
       "      <th>1</th>\n",
       "      <td>BE</td>\n",
       "      <td>4.24</td>\n",
       "      <td>4.83</td>\n",
       "      <td>4.56</td>\n",
       "    </tr>\n",
       "    <tr>\n",
       "      <th>2</th>\n",
       "      <td>BG</td>\n",
       "      <td>3.75</td>\n",
       "      <td>4.25</td>\n",
       "      <td>4.03</td>\n",
       "    </tr>\n",
       "    <tr>\n",
       "      <th>3</th>\n",
       "      <td>CH</td>\n",
       "      <td>3.96</td>\n",
       "      <td>3.71</td>\n",
       "      <td>3.81</td>\n",
       "    </tr>\n",
       "    <tr>\n",
       "      <th>4</th>\n",
       "      <td>CY</td>\n",
       "      <td>6.38</td>\n",
       "      <td>5.63</td>\n",
       "      <td>6.00</td>\n",
       "    </tr>\n",
       "  </tbody>\n",
       "</table>\n",
       "</div>"
      ],
      "text/plain": [
       "sex geo     F     M     T\n",
       "0    AT  3.83  4.15  4.01\n",
       "1    BE  4.24  4.83  4.56\n",
       "2    BG  3.75  4.25  4.03\n",
       "3    CH  3.96  3.71  3.81\n",
       "4    CY  6.38  5.63  6.00"
      ]
     },
     "execution_count": 4,
     "metadata": {},
     "output_type": "execute_result"
    }
   ],
   "source": [
    "df.head()"
   ]
  },
  {
   "cell_type": "code",
   "execution_count": 11,
   "metadata": {},
   "outputs": [
    {
     "data": {
      "text/plain": [
       "array(['AT', 'BE', 'BG', 'CH', 'CY', 'CZ', 'DE', 'DK', 'EA', 'EA18',\n",
       "       'EA19', 'EE', 'EL', 'ES', 'EU27_2007', 'EU27_2020', 'EU28', 'FI',\n",
       "       'FR', 'HR', 'HU', 'IE', 'IS', 'IT', 'LT', 'LU', 'LV', 'MT', 'NL',\n",
       "       'NO', 'PL', 'PT', 'RO', 'SE', 'SI', 'SK', 'TR', 'UK', 'US'],\n",
       "      dtype=object)"
      ]
     },
     "execution_count": 11,
     "metadata": {},
     "output_type": "execute_result"
    }
   ],
   "source": [
    "df[\"geo\"].unique()"
   ]
  },
  {
   "cell_type": "markdown",
   "metadata": {},
   "source": [
    "Filter for Germany, Greece and the EU28 countries"
   ]
  },
  {
   "cell_type": "code",
   "execution_count": 23,
   "metadata": {},
   "outputs": [
    {
     "data": {
      "text/html": [
       "<div>\n",
       "<style scoped>\n",
       "    .dataframe tbody tr th:only-of-type {\n",
       "        vertical-align: middle;\n",
       "    }\n",
       "\n",
       "    .dataframe tbody tr th {\n",
       "        vertical-align: top;\n",
       "    }\n",
       "\n",
       "    .dataframe thead th {\n",
       "        text-align: right;\n",
       "    }\n",
       "</style>\n",
       "<table border=\"1\" class=\"dataframe\">\n",
       "  <thead>\n",
       "    <tr style=\"text-align: right;\">\n",
       "      <th>sex</th>\n",
       "      <th>geo</th>\n",
       "      <th>F</th>\n",
       "      <th>M</th>\n",
       "      <th>T</th>\n",
       "    </tr>\n",
       "  </thead>\n",
       "  <tbody>\n",
       "    <tr>\n",
       "      <th>6</th>\n",
       "      <td>DE</td>\n",
       "      <td>3.16</td>\n",
       "      <td>3.67</td>\n",
       "      <td>3.44</td>\n",
       "    </tr>\n",
       "    <tr>\n",
       "      <th>12</th>\n",
       "      <td>EL</td>\n",
       "      <td>19.05</td>\n",
       "      <td>12.74</td>\n",
       "      <td>15.51</td>\n",
       "    </tr>\n",
       "    <tr>\n",
       "      <th>16</th>\n",
       "      <td>EU28</td>\n",
       "      <td>5.72</td>\n",
       "      <td>5.12</td>\n",
       "      <td>5.40</td>\n",
       "    </tr>\n",
       "  </tbody>\n",
       "</table>\n",
       "</div>"
      ],
      "text/plain": [
       "sex   geo      F      M      T\n",
       "6      DE   3.16   3.67   3.44\n",
       "12     EL  19.05  12.74  15.51\n",
       "16   EU28   5.72   5.12   5.40"
      ]
     },
     "execution_count": 23,
     "metadata": {},
     "output_type": "execute_result"
    }
   ],
   "source": [
    "df.loc[(df[\"geo\"] == \"EU28\") | (df[\"geo\"] == \"DE\")  | (df[\"geo\"] == \"EL\")]"
   ]
  },
  {
   "cell_type": "markdown",
   "metadata": {},
   "source": [
    "Difference between the unemployment rate between males and females for the EU28 countries, Greece and Germany"
   ]
  },
  {
   "cell_type": "code",
   "execution_count": 55,
   "metadata": {},
   "outputs": [
    {
     "name": "stdout",
     "output_type": "stream",
     "text": [
      "The table this analysis is based on includes the overall mean for all years. This analysis focuses\n",
      "on the difference between the unemployment rate of males and females for Germany, Greece and the EU28 countries\n",
      "combined. The data is about the active population, meaning people who are unemployed and willing to work. This \n",
      "already eliminates other factors e.g.  maternity/paternity leave, stay-at-home mothers/dads, among others.\n",
      "\n",
      "The total unemployment for rate, total of males and females (T), for all EU28 countries is 5.4. \n",
      "Germany is doing better in this regard and has a lower total unemployment rate with a difference of \n",
      "1.96 percent points compared to the EU28 countries. Greece has the highest unemployment rate of 15.51, \n",
      "which is 10.11 percent points higher than the EU28 countries and 12.07 \n",
      "percent points higher than Germany.\n",
      "\n",
      "For all EU28 countries combined, we see there is a slight difference in the unemployment rate \n",
      "for male and female. The total overall difference for all EU28 countries is 0.6 percent points.\n",
      "The difference between the 2 genders is smaller than all EU28 countries combined, namely 0.51.\n",
      "The biggest difference is visible in Greece, there's a difference of 6.31. The unemployment rate \n",
      "among females is much higher than for males. A 2009 research paper states that in Greece there is clear evidence\n",
      "of gender differences and that there is evidence of female employment discbrimination (article:'Gender employment \n",
      "discrimination: Greece and the United Kingdom', written by Ilias Livanos, Çagri Yalkin, Imanol Nuñez, 2009) \n"
     ]
    }
   ],
   "source": [
    "diff_eu28 = df[\"F\"][16] - df[\"M\"][16]\n",
    "diff_greece = df[\"F\"][12] - df[\"M\"][12]\n",
    "diff_germany = df[\"M\"][6] - df[\"F\"][6]\n",
    "t_eu28 = df[\"T\"][16]\n",
    "t_greece = df[\"T\"][12]\n",
    "t_germany = df[\"T\"][6]\n",
    "diff_t_germany_eu28 = df[\"T\"][16] - df[\"T\"][6]\n",
    "diff_t_greece_eu28 = df[\"T\"][12] - df[\"T\"][16]\n",
    "diff_t_greece_germany = df[\"T\"][12] - df[\"T\"][6]\n",
    "\n",
    "print(f\"\"\"The table this analysis is based on includes the overall mean for all years. This analysis focuses\n",
    "on the difference between the unemployment rate of males and females for Germany, Greece and the EU28 countries\n",
    "combined. The data is about the active population, meaning people who are unemployed and willing to work. This \n",
    "already eliminates other factors e.g.  maternity/paternity leave, stay-at-home mothers/dads, among others.\n",
    "\n",
    "The total unemployment for rate, total of males and females (T), for all EU28 countries is {round(t_eu28, 2)}. \n",
    "Germany is doing better in this regard and has a lower total unemployment rate with a difference of \n",
    "{round(diff_t_germany_eu28,2)} percent points compared to the EU28 countries. Greece has the highest unemployment rate of {round(t_greece, 2)}, \n",
    "which is {round(diff_t_greece_eu28, 2)} percent points higher than the EU28 countries and {round(diff_t_greece_germany, 2)} \n",
    "percent points higher than Germany.\n",
    "\n",
    "For all EU28 countries combined, we see there is a slight difference in the unemployment rate \n",
    "for male and female. The total overall difference for all EU28 countries is {round(diff_eu28, 2)} percent points.\n",
    "For Germany, the difference between the 2 genders is smaller than all EU28 countries combined, namely {round(diff_germany, 2)}.\n",
    "Plus, in Germany the unemployment rate for males is slightly higher than for females. \n",
    "The biggest difference is visible in Greece, there's a difference of {round(diff_greece, 2)}. The unemployment rate \n",
    "among females is much higher than for males. A 2009 research paper states that in Greece there is clear evidence\n",
    "of gender differences and that there is evidence of female employment discbrimination (article:'Gender employment \n",
    "discrimination: Greece and the United Kingdom', written by Ilias Livanos, Çagri Yalkin, Imanol Nuñez, 2009) \"\"\")\n"
   ]
  },
  {
   "cell_type": "markdown",
   "metadata": {},
   "source": [
    "## Transpose data for Tableau\n",
    "To be better able to make a stacked bar graph in Tableau, we need to transpose the data."
   ]
  },
  {
   "cell_type": "code",
   "execution_count": 20,
   "metadata": {},
   "outputs": [],
   "source": [
    "# Transpose\n",
    "df_t = df_t.T\n",
    "\n",
    "# Drop other countries\n",
    "keep = [\"DE\", \"EL\", \"EU28\"]\n",
    "drop = [col for col in df_t.columns if col not in keep]\n",
    "df_t.drop(columns=drop, inplace=True)"
   ]
  },
  {
   "cell_type": "code",
   "execution_count": 25,
   "metadata": {},
   "outputs": [],
   "source": [
    "# Drop labels\n",
    "df_t.columns.name = \"\"\n",
    "df_t.index.name = \"\""
   ]
  },
  {
   "cell_type": "code",
   "execution_count": 26,
   "metadata": {},
   "outputs": [
    {
     "data": {
      "text/html": [
       "<div>\n",
       "<style scoped>\n",
       "    .dataframe tbody tr th:only-of-type {\n",
       "        vertical-align: middle;\n",
       "    }\n",
       "\n",
       "    .dataframe tbody tr th {\n",
       "        vertical-align: top;\n",
       "    }\n",
       "\n",
       "    .dataframe thead th {\n",
       "        text-align: right;\n",
       "    }\n",
       "</style>\n",
       "<table border=\"1\" class=\"dataframe\">\n",
       "  <thead>\n",
       "    <tr style=\"text-align: right;\">\n",
       "      <th></th>\n",
       "      <th>DE</th>\n",
       "      <th>EL</th>\n",
       "      <th>EU28</th>\n",
       "    </tr>\n",
       "    <tr>\n",
       "      <th></th>\n",
       "      <th></th>\n",
       "      <th></th>\n",
       "      <th></th>\n",
       "    </tr>\n",
       "  </thead>\n",
       "  <tbody>\n",
       "    <tr>\n",
       "      <th>F</th>\n",
       "      <td>3.16</td>\n",
       "      <td>19.05</td>\n",
       "      <td>5.72</td>\n",
       "    </tr>\n",
       "    <tr>\n",
       "      <th>M</th>\n",
       "      <td>3.67</td>\n",
       "      <td>12.74</td>\n",
       "      <td>5.12</td>\n",
       "    </tr>\n",
       "    <tr>\n",
       "      <th>T</th>\n",
       "      <td>3.44</td>\n",
       "      <td>15.51</td>\n",
       "      <td>5.40</td>\n",
       "    </tr>\n",
       "  </tbody>\n",
       "</table>\n",
       "</div>"
      ],
      "text/plain": [
       "     DE     EL  EU28\n",
       "                    \n",
       "F  3.16  19.05  5.72\n",
       "M  3.67  12.74  5.12\n",
       "T  3.44  15.51  5.40"
      ]
     },
     "execution_count": 26,
     "metadata": {},
     "output_type": "execute_result"
    }
   ],
   "source": [
    "df_t"
   ]
  },
  {
   "cell_type": "code",
   "execution_count": 31,
   "metadata": {},
   "outputs": [],
   "source": [
    "# Export the file to CSV\n",
    "df_t.to_csv(os.path.join(BASE, \n",
    "                         \"output\",\n",
    "                         \"sex_transposed.csv\"))"
   ]
  },
  {
   "cell_type": "code",
   "execution_count": null,
   "metadata": {},
   "outputs": [],
   "source": []
  }
 ],
 "metadata": {
  "hide_input": false,
  "kernelspec": {
   "display_name": "Python 3",
   "language": "python",
   "name": "python3"
  },
  "language_info": {
   "codemirror_mode": {
    "name": "ipython",
    "version": 3
   },
   "file_extension": ".py",
   "mimetype": "text/x-python",
   "name": "python",
   "nbconvert_exporter": "python",
   "pygments_lexer": "ipython3",
   "version": "3.8.5"
  }
 },
 "nbformat": 4,
 "nbformat_minor": 4
}

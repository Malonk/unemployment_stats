{
 "cells": [
  {
   "cell_type": "markdown",
   "metadata": {},
   "source": [
    "# Correlation unemployment / GDP\n",
    "BASE = os.path.join(os.pardir, \"data\")We want to know if there is a correlation between the GDP per capita and the unemployment rate."
   ]
  },
  {
   "cell_type": "code",
   "execution_count": 1,
   "metadata": {},
   "outputs": [],
   "source": [
    "import os\n",
    "\n",
    "import pandas as pd\n",
    "import numpy as np\n",
    "import matplotlib as mpl\n",
    "import matplotlib.pyplot as plt\n",
    "import statsmodels.api as sm\n",
    "\n",
    "%matplotlib inline  \n",
    "\n",
    "\n",
    "BASE = os.path.join(os.pardir, \"data\")"
   ]
  },
  {
   "cell_type": "code",
   "execution_count": 2,
   "metadata": {},
   "outputs": [
    {
     "data": {
      "text/html": [
       "<div>\n",
       "<style scoped>\n",
       "    .dataframe tbody tr th:only-of-type {\n",
       "        vertical-align: middle;\n",
       "    }\n",
       "\n",
       "    .dataframe tbody tr th {\n",
       "        vertical-align: top;\n",
       "    }\n",
       "\n",
       "    .dataframe thead th {\n",
       "        text-align: right;\n",
       "    }\n",
       "</style>\n",
       "<table border=\"1\" class=\"dataframe\">\n",
       "  <thead>\n",
       "    <tr style=\"text-align: right;\">\n",
       "      <th></th>\n",
       "      <th>DE</th>\n",
       "      <th>EL</th>\n",
       "      <th>EU28</th>\n",
       "    </tr>\n",
       "    <tr>\n",
       "      <th></th>\n",
       "      <th></th>\n",
       "      <th></th>\n",
       "      <th></th>\n",
       "    </tr>\n",
       "  </thead>\n",
       "  <tbody>\n",
       "    <tr>\n",
       "      <th>2008</th>\n",
       "      <td>38432</td>\n",
       "      <td>30855</td>\n",
       "      <td>33065</td>\n",
       "    </tr>\n",
       "    <tr>\n",
       "      <th>2009</th>\n",
       "      <td>37501</td>\n",
       "      <td>30388</td>\n",
       "      <td>32277</td>\n",
       "    </tr>\n",
       "    <tr>\n",
       "      <th>2010</th>\n",
       "      <td>39703</td>\n",
       "      <td>28169</td>\n",
       "      <td>33347</td>\n",
       "    </tr>\n",
       "    <tr>\n",
       "      <th>2011</th>\n",
       "      <td>42541</td>\n",
       "      <td>26141</td>\n",
       "      <td>34747</td>\n",
       "    </tr>\n",
       "    <tr>\n",
       "      <th>2012</th>\n",
       "      <td>43359</td>\n",
       "      <td>25284</td>\n",
       "      <td>35297</td>\n",
       "    </tr>\n",
       "  </tbody>\n",
       "</table>\n",
       "</div>"
      ],
      "text/plain": [
       "         DE     EL   EU28\n",
       "                         \n",
       "2008  38432  30855  33065\n",
       "2009  37501  30388  32277\n",
       "2010  39703  28169  33347\n",
       "2011  42541  26141  34747\n",
       "2012  43359  25284  35297"
      ]
     },
     "execution_count": 2,
     "metadata": {},
     "output_type": "execute_result"
    }
   ],
   "source": [
    "# Open files\n",
    "\n",
    "gdp = pd.read_pickle(os.path.join(BASE, \"pickles\", \"GDP_DE_EL_EU.pkl\"))\n",
    "uep = pd.read_pickle(os.path.join(BASE, \"pickles\", \"total_unemployment_rate.pkl\"))\n",
    "\n",
    "# Drop years outside of unemployment data\n",
    "gdp.drop(range(2005, 2008), inplace=True)\n",
    "gdp.head()"
   ]
  },
  {
   "cell_type": "code",
   "execution_count": 3,
   "metadata": {},
   "outputs": [
    {
     "data": {
      "text/html": [
       "<div>\n",
       "<style scoped>\n",
       "    .dataframe tbody tr th:only-of-type {\n",
       "        vertical-align: middle;\n",
       "    }\n",
       "\n",
       "    .dataframe tbody tr th {\n",
       "        vertical-align: top;\n",
       "    }\n",
       "\n",
       "    .dataframe thead th {\n",
       "        text-align: right;\n",
       "    }\n",
       "</style>\n",
       "<table border=\"1\" class=\"dataframe\">\n",
       "  <thead>\n",
       "    <tr style=\"text-align: right;\">\n",
       "      <th></th>\n",
       "      <th>DE</th>\n",
       "      <th>EL</th>\n",
       "      <th>EU28</th>\n",
       "    </tr>\n",
       "  </thead>\n",
       "  <tbody>\n",
       "    <tr>\n",
       "      <th>2008</th>\n",
       "      <td>7.5</td>\n",
       "      <td>7.8</td>\n",
       "      <td>7.0</td>\n",
       "    </tr>\n",
       "    <tr>\n",
       "      <th>2009</th>\n",
       "      <td>7.8</td>\n",
       "      <td>9.6</td>\n",
       "      <td>8.9</td>\n",
       "    </tr>\n",
       "    <tr>\n",
       "      <th>2010</th>\n",
       "      <td>7.0</td>\n",
       "      <td>12.7</td>\n",
       "      <td>9.6</td>\n",
       "    </tr>\n",
       "    <tr>\n",
       "      <th>2011</th>\n",
       "      <td>5.8</td>\n",
       "      <td>17.9</td>\n",
       "      <td>9.6</td>\n",
       "    </tr>\n",
       "    <tr>\n",
       "      <th>2012</th>\n",
       "      <td>5.4</td>\n",
       "      <td>24.5</td>\n",
       "      <td>10.5</td>\n",
       "    </tr>\n",
       "  </tbody>\n",
       "</table>\n",
       "</div>"
      ],
      "text/plain": [
       "       DE    EL  EU28\n",
       "2008  7.5   7.8   7.0\n",
       "2009  7.8   9.6   8.9\n",
       "2010  7.0  12.7   9.6\n",
       "2011  5.8  17.9   9.6\n",
       "2012  5.4  24.5  10.5"
      ]
     },
     "execution_count": 3,
     "metadata": {},
     "output_type": "execute_result"
    }
   ],
   "source": [
    "# Keep only the countries we're interested in\n",
    "countries = [\"DE\", \"EL\", \"EU28\"]\n",
    "drop = [_ for _ in uep.columns \n",
    "        if _ not in countries]\n",
    "uep.drop(columns=drop, inplace=True)\n",
    "uep.head()"
   ]
  },
  {
   "cell_type": "code",
   "execution_count": 4,
   "metadata": {},
   "outputs": [],
   "source": [
    "# Rename columns so there is no confusion\n",
    "gdp.columns = [f\"g_{x}\" for x in gdp.columns]\n",
    "uep.columns = [f\"u_{x}\" for x in uep.columns]"
   ]
  },
  {
   "cell_type": "code",
   "execution_count": 5,
   "metadata": {},
   "outputs": [
    {
     "data": {
      "text/html": [
       "<div>\n",
       "<style scoped>\n",
       "    .dataframe tbody tr th:only-of-type {\n",
       "        vertical-align: middle;\n",
       "    }\n",
       "\n",
       "    .dataframe tbody tr th {\n",
       "        vertical-align: top;\n",
       "    }\n",
       "\n",
       "    .dataframe thead th {\n",
       "        text-align: right;\n",
       "    }\n",
       "</style>\n",
       "<table border=\"1\" class=\"dataframe\">\n",
       "  <thead>\n",
       "    <tr style=\"text-align: right;\">\n",
       "      <th></th>\n",
       "      <th>const</th>\n",
       "      <th>u_DE</th>\n",
       "      <th>u_EL</th>\n",
       "      <th>u_EU28</th>\n",
       "      <th>g_DE</th>\n",
       "      <th>g_EL</th>\n",
       "      <th>g_EU28</th>\n",
       "    </tr>\n",
       "  </thead>\n",
       "  <tbody>\n",
       "    <tr>\n",
       "      <th>2008</th>\n",
       "      <td>1.0</td>\n",
       "      <td>7.5</td>\n",
       "      <td>7.8</td>\n",
       "      <td>7.0</td>\n",
       "      <td>38432</td>\n",
       "      <td>30855</td>\n",
       "      <td>33065</td>\n",
       "    </tr>\n",
       "    <tr>\n",
       "      <th>2009</th>\n",
       "      <td>1.0</td>\n",
       "      <td>7.8</td>\n",
       "      <td>9.6</td>\n",
       "      <td>8.9</td>\n",
       "      <td>37501</td>\n",
       "      <td>30388</td>\n",
       "      <td>32277</td>\n",
       "    </tr>\n",
       "    <tr>\n",
       "      <th>2010</th>\n",
       "      <td>1.0</td>\n",
       "      <td>7.0</td>\n",
       "      <td>12.7</td>\n",
       "      <td>9.6</td>\n",
       "      <td>39703</td>\n",
       "      <td>28169</td>\n",
       "      <td>33347</td>\n",
       "    </tr>\n",
       "    <tr>\n",
       "      <th>2011</th>\n",
       "      <td>1.0</td>\n",
       "      <td>5.8</td>\n",
       "      <td>17.9</td>\n",
       "      <td>9.6</td>\n",
       "      <td>42541</td>\n",
       "      <td>26141</td>\n",
       "      <td>34747</td>\n",
       "    </tr>\n",
       "    <tr>\n",
       "      <th>2012</th>\n",
       "      <td>1.0</td>\n",
       "      <td>5.4</td>\n",
       "      <td>24.5</td>\n",
       "      <td>10.5</td>\n",
       "      <td>43359</td>\n",
       "      <td>25284</td>\n",
       "      <td>35297</td>\n",
       "    </tr>\n",
       "  </tbody>\n",
       "</table>\n",
       "</div>"
      ],
      "text/plain": [
       "      const  u_DE  u_EL  u_EU28   g_DE   g_EL  g_EU28\n",
       "2008    1.0   7.5   7.8     7.0  38432  30855   33065\n",
       "2009    1.0   7.8   9.6     8.9  37501  30388   32277\n",
       "2010    1.0   7.0  12.7     9.6  39703  28169   33347\n",
       "2011    1.0   5.8  17.9     9.6  42541  26141   34747\n",
       "2012    1.0   5.4  24.5    10.5  43359  25284   35297"
      ]
     },
     "execution_count": 5,
     "metadata": {},
     "output_type": "execute_result"
    }
   ],
   "source": [
    "# Concatenate both tables into one\n",
    "combi = pd.concat([uep, gdp], axis=1)\n",
    "\n",
    "# Add a constant for our analysis\n",
    "combi = sm.add_constant(combi)\n",
    "\n",
    "combi.head()"
   ]
  },
  {
   "cell_type": "markdown",
   "metadata": {},
   "source": [
    "## Check correlation"
   ]
  },
  {
   "cell_type": "code",
   "execution_count": 6,
   "metadata": {},
   "outputs": [
    {
     "name": "stdout",
     "output_type": "stream",
     "text": [
      "+++++++++++++++++++DE+++++++++++++++++++\n",
      "                            OLS Regression Results                            \n",
      "==============================================================================\n",
      "Dep. Variable:                   u_DE   R-squared:                       0.953\n",
      "Model:                            OLS   Adj. R-squared:                  0.948\n",
      "Method:                 Least Squares   F-statistic:                     203.5\n",
      "Date:                Thu, 17 Sep 2020   Prob (F-statistic):           5.65e-08\n",
      "Time:                        16:04:20   Log-Likelihood:                -3.4104\n",
      "No. Observations:                  12   AIC:                             10.82\n",
      "Df Residuals:                      10   BIC:                             11.79\n",
      "Df Model:                           1                                         \n",
      "Covariance Type:            nonrobust                                         \n",
      "==============================================================================\n",
      "                 coef    std err          t      P>|t|      [0.025      0.975]\n",
      "------------------------------------------------------------------------------\n",
      "const         16.2552      0.779     20.861      0.000      14.519      17.991\n",
      "g_DE          -0.0002   1.67e-05    -14.267      0.000      -0.000      -0.000\n",
      "==============================================================================\n",
      "Omnibus:                        2.267   Durbin-Watson:                   0.625\n",
      "Prob(Omnibus):                  0.322   Jarque-Bera (JB):                0.952\n",
      "Skew:                          -0.140   Prob(JB):                        0.621\n",
      "Kurtosis:                       1.649   Cond. No.                     3.58e+05\n",
      "==============================================================================\n",
      "\n",
      "Warnings:\n",
      "[1] Standard Errors assume that the covariance matrix of the errors is correctly specified.\n",
      "[2] The condition number is large, 3.58e+05. This might indicate that there are\n",
      "strong multicollinearity or other numerical problems.\n",
      "\n",
      "+++++++++++++++++++EL+++++++++++++++++++\n",
      "                            OLS Regression Results                            \n",
      "==============================================================================\n",
      "Dep. Variable:                   u_EL   R-squared:                       0.473\n",
      "Model:                            OLS   Adj. R-squared:                  0.420\n",
      "Method:                 Least Squares   F-statistic:                     8.965\n",
      "Date:                Thu, 17 Sep 2020   Prob (F-statistic):             0.0135\n",
      "Time:                        16:04:21   Log-Likelihood:                -35.276\n",
      "No. Observations:                  12   AIC:                             74.55\n",
      "Df Residuals:                      10   BIC:                             75.52\n",
      "Df Model:                           1                                         \n",
      "Covariance Type:            nonrobust                                         \n",
      "==============================================================================\n",
      "                 coef    std err          t      P>|t|      [0.025      0.975]\n",
      "------------------------------------------------------------------------------\n",
      "const         80.4596     20.436      3.937      0.003      34.926     125.993\n",
      "g_EL          -0.0022      0.001     -2.994      0.013      -0.004      -0.001\n",
      "==============================================================================\n",
      "Omnibus:                        5.577   Durbin-Watson:                   0.211\n",
      "Prob(Omnibus):                  0.062   Jarque-Bera (JB):                1.719\n",
      "Skew:                          -0.483   Prob(JB):                        0.423\n",
      "Kurtosis:                       1.417   Cond. No.                     4.00e+05\n",
      "==============================================================================\n",
      "\n",
      "Warnings:\n",
      "[1] Standard Errors assume that the covariance matrix of the errors is correctly specified.\n",
      "[2] The condition number is large,  4e+05. This might indicate that there are\n",
      "strong multicollinearity or other numerical problems.\n",
      "\n",
      "+++++++++++++++++++EU28+++++++++++++++++++\n",
      "                            OLS Regression Results                            \n",
      "==============================================================================\n",
      "Dep. Variable:                 u_EU28   R-squared:                       0.352\n",
      "Model:                            OLS   Adj. R-squared:                  0.288\n",
      "Method:                 Least Squares   F-statistic:                     5.444\n",
      "Date:                Thu, 17 Sep 2020   Prob (F-statistic):             0.0418\n",
      "Time:                        16:04:21   Log-Likelihood:                -18.944\n",
      "No. Observations:                  12   AIC:                             41.89\n",
      "Df Residuals:                      10   BIC:                             42.86\n",
      "Df Model:                           1                                         \n",
      "Covariance Type:            nonrobust                                         \n",
      "==============================================================================\n",
      "                 coef    std err          t      P>|t|      [0.025      0.975]\n",
      "------------------------------------------------------------------------------\n",
      "const         15.8762      3.070      5.172      0.000       9.037      22.716\n",
      "g_EU28        -0.0002   7.99e-05     -2.333      0.042      -0.000    -8.4e-06\n",
      "==============================================================================\n",
      "Omnibus:                        2.068   Durbin-Watson:                   0.393\n",
      "Prob(Omnibus):                  0.356   Jarque-Bera (JB):                0.759\n",
      "Skew:                          -0.614   Prob(JB):                        0.684\n",
      "Kurtosis:                       3.094   Cond. No.                     3.18e+05\n",
      "==============================================================================\n",
      "\n",
      "Warnings:\n",
      "[1] Standard Errors assume that the covariance matrix of the errors is correctly specified.\n",
      "[2] The condition number is large, 3.18e+05. This might indicate that there are\n",
      "strong multicollinearity or other numerical problems.\n",
      "\n"
     ]
    },
    {
     "name": "stderr",
     "output_type": "stream",
     "text": [
      "C:\\Users\\Rinze\\.conda\\envs\\matrix\\lib\\site-packages\\scipy\\stats\\stats.py:1603: UserWarning: kurtosistest only valid for n>=20 ... continuing anyway, n=12\n",
      "  warnings.warn(\"kurtosistest only valid for n>=20 ... continuing \"\n"
     ]
    }
   ],
   "source": [
    "for c in countries:\n",
    "    print(f\"+++++++++++++++++++{c}+++++++++++++++++++\")\n",
    "    y = combi[f\"u_{c}\"]\n",
    "    X = combi[[\"const\", f\"g_{c}\"]]\n",
    "    model = sm.OLS(y, X).fit()\n",
    "    print(model.summary(), end=\"\\n\\n\")"
   ]
  },
  {
   "cell_type": "code",
   "execution_count": 7,
   "metadata": {},
   "outputs": [
    {
     "data": {
      "text/plain": [
       "''"
      ]
     },
     "execution_count": 7,
     "metadata": {},
     "output_type": "execute_result"
    },
    {
     "data": {
      "image/png": "[encoded data removed]",
      "text/plain": [
       "<Figure size 1080x432 with 2 Axes>"
      ]
     },
     "metadata": {
      "needs_background": "light"
     },
     "output_type": "display_data"
    }
   ],
   "source": [
    "fig, ax = plt.subplots(1, 2, figsize=(15,6))\n",
    "\n",
    "# Set variables\n",
    "colors = [\"orange\", \"blue\", \"red\"]\n",
    "names = {0: \"Germany\", 1: \"Greece\", 2: \"EU 28\"}\n",
    "ylabels = [\"Unemployment %\", \"GDP in USD per capita\"]\n",
    "titles = [\"Unemployment\", \"Gross Domestic Product\"]\n",
    "\n",
    "# Plot both graphs for every country\n",
    "for i, c in enumerate(countries):\n",
    "    ax[0].plot(f\"u_{c}\", data=combi, color=colors[i], label=names[i])\n",
    "    ax[1].plot(f\"g_{c}\", data=combi, color=colors[i], label=\"\")\n",
    "\n",
    "# Set axes info\n",
    "for i in range(2):\n",
    "    ax[i].set_ylabel(ylabels[i])\n",
    "    ax[i].set_xlabel(\"Year\")\n",
    "    ax[i].set_title(titles[i])\n",
    "    ax[i].axvline(x=2012, alpha=0.2)\n",
    "\n",
    "fig.legend(loc=\"upper center\")\n",
    "\"\""
   ]
  },
  {
   "cell_type": "markdown",
   "metadata": {},
   "source": [
    "## Conclusions\n",
    "The Pearson coefficient for Germany, Greece and the combined EU28 differ greatly (resp 0.948, 0.420, 0.288). Looking at the graph it can be easily seen that the unemployment in Germany is rougly inverse to the GDP. However, in the case of Greece the impact of the declining economy was far greater. Looking at the combined EU28, there is probably a dampening effect (between the northern and southern countries). The massive increase in unemployment was not halted by the already increasing GDP in northern Europe. "
   ]
  },
  {
   "cell_type": "code",
   "execution_count": 8,
   "metadata": {},
   "outputs": [],
   "source": [
    "# Export image\n",
    "fig.savefig(os.path.join(os.pardir, \"visuals\", \"gdp-unemployment.png\"), dpi=300)"
   ]
  },
  {
   "cell_type": "code",
   "execution_count": null,
   "metadata": {},
   "outputs": [],
   "source": []
  }
 ],
 "metadata": {
  "kernelspec": {
   "display_name": "Python 3",
   "language": "python",
   "name": "python3"
  },
  "language_info": {
   "codemirror_mode": {
    "name": "ipython",
    "version": 3
   },
   "file_extension": ".py",
   "mimetype": "text/x-python",
   "name": "python",
   "nbconvert_exporter": "python",
   "pygments_lexer": "ipython3",
   "version": "3.8.5"
  }
 },
 "nbformat": 4,
 "nbformat_minor": 4
}

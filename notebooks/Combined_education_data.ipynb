{
 "cells": [
  {
   "cell_type": "markdown",
   "metadata": {},
   "source": [
    "## Comparison between the EU28, Germany and Greece\n",
    "Now compare all 3 education levels of the EU28 countries, Germany and Greece"
   ]
  },
  {
   "cell_type": "code",
   "execution_count": 29,
   "metadata": {},
   "outputs": [],
   "source": [
    "import os\n",
    "\n",
    "import pandas as pd\n",
    "import numpy as np\n",
    "import matplotlib.pyplot as plt\n",
    "import seaborn as sns\n",
    "%matplotlib inline\n",
    "\n",
    "BASE = os.path.join(os.pardir, \"data\", \"pickles\")"
   ]
  },
  {
   "cell_type": "code",
   "execution_count": 30,
   "metadata": {},
   "outputs": [],
   "source": [
    "# Import EU28 data\n",
    "df_eu28 = pd.read_pickle(os.path.join(BASE, \n",
    "                                      \"education_employment_rate_eu28.pkl\"))"
   ]
  },
  {
   "cell_type": "code",
   "execution_count": 31,
   "metadata": {},
   "outputs": [],
   "source": [
    "# Import Germany data\n",
    "df_germany = pd.read_pickle(os.path.join(BASE, \n",
    "                                         \"education_employment_rate_germany.pkl\"))"
   ]
  },
  {
   "cell_type": "code",
   "execution_count": 32,
   "metadata": {},
   "outputs": [],
   "source": [
    "# Import Greece data\n",
    "df_greece = pd.read_pickle(os.path.join(BASE, \n",
    "                                        \"education_employment_rate_greece.pkl\"))"
   ]
  },
  {
   "cell_type": "code",
   "execution_count": 33,
   "metadata": {},
   "outputs": [
    {
     "data": {
      "text/html": [
       "<div>\n",
       "<style scoped>\n",
       "    .dataframe tbody tr th:only-of-type {\n",
       "        vertical-align: middle;\n",
       "    }\n",
       "\n",
       "    .dataframe tbody tr th {\n",
       "        vertical-align: top;\n",
       "    }\n",
       "\n",
       "    .dataframe thead th {\n",
       "        text-align: right;\n",
       "    }\n",
       "</style>\n",
       "<table border=\"1\" class=\"dataframe\">\n",
       "  <thead>\n",
       "    <tr style=\"text-align: right;\">\n",
       "      <th></th>\n",
       "      <th>low_eu28</th>\n",
       "      <th>med_eu28</th>\n",
       "      <th>high_eu28</th>\n",
       "      <th>low_germany</th>\n",
       "      <th>med_germany</th>\n",
       "      <th>high_germany</th>\n",
       "      <th>low_greece</th>\n",
       "      <th>med_greece</th>\n",
       "      <th>high_greece</th>\n",
       "    </tr>\n",
       "    <tr>\n",
       "      <th>year</th>\n",
       "      <th></th>\n",
       "      <th></th>\n",
       "      <th></th>\n",
       "      <th></th>\n",
       "      <th></th>\n",
       "      <th></th>\n",
       "      <th></th>\n",
       "      <th></th>\n",
       "      <th></th>\n",
       "    </tr>\n",
       "  </thead>\n",
       "  <tbody>\n",
       "    <tr>\n",
       "      <th>2005</th>\n",
       "      <td>44.5</td>\n",
       "      <td>30.6</td>\n",
       "      <td>17.4</td>\n",
       "      <td>48.1</td>\n",
       "      <td>30.4</td>\n",
       "      <td>17.2</td>\n",
       "      <td>42.0</td>\n",
       "      <td>37.3</td>\n",
       "      <td>19.1</td>\n",
       "    </tr>\n",
       "    <tr>\n",
       "      <th>2006</th>\n",
       "      <td>43.7</td>\n",
       "      <td>29.6</td>\n",
       "      <td>16.8</td>\n",
       "      <td>45.9</td>\n",
       "      <td>28.6</td>\n",
       "      <td>15.8</td>\n",
       "      <td>40.4</td>\n",
       "      <td>37.1</td>\n",
       "      <td>17.9</td>\n",
       "    </tr>\n",
       "    <tr>\n",
       "      <th>2007</th>\n",
       "      <td>43.1</td>\n",
       "      <td>28.6</td>\n",
       "      <td>16.2</td>\n",
       "      <td>45.0</td>\n",
       "      <td>26.7</td>\n",
       "      <td>14.6</td>\n",
       "      <td>39.8</td>\n",
       "      <td>37.2</td>\n",
       "      <td>18.2</td>\n",
       "    </tr>\n",
       "    <tr>\n",
       "      <th>2008</th>\n",
       "      <td>43.6</td>\n",
       "      <td>28.3</td>\n",
       "      <td>16.2</td>\n",
       "      <td>44.1</td>\n",
       "      <td>25.8</td>\n",
       "      <td>14.3</td>\n",
       "      <td>39.6</td>\n",
       "      <td>36.7</td>\n",
       "      <td>18.0</td>\n",
       "    </tr>\n",
       "    <tr>\n",
       "      <th>2009</th>\n",
       "      <td>45.8</td>\n",
       "      <td>29.7</td>\n",
       "      <td>17.1</td>\n",
       "      <td>44.3</td>\n",
       "      <td>25.9</td>\n",
       "      <td>13.7</td>\n",
       "      <td>40.2</td>\n",
       "      <td>37.6</td>\n",
       "      <td>18.5</td>\n",
       "    </tr>\n",
       "  </tbody>\n",
       "</table>\n",
       "</div>"
      ],
      "text/plain": [
       "      low_eu28  med_eu28  high_eu28  low_germany  med_germany  high_germany  \\\n",
       "year                                                                          \n",
       "2005      44.5      30.6       17.4         48.1         30.4          17.2   \n",
       "2006      43.7      29.6       16.8         45.9         28.6          15.8   \n",
       "2007      43.1      28.6       16.2         45.0         26.7          14.6   \n",
       "2008      43.6      28.3       16.2         44.1         25.8          14.3   \n",
       "2009      45.8      29.7       17.1         44.3         25.9          13.7   \n",
       "\n",
       "      low_greece  med_greece  high_greece  \n",
       "year                                       \n",
       "2005        42.0        37.3         19.1  \n",
       "2006        40.4        37.1         17.9  \n",
       "2007        39.8        37.2         18.2  \n",
       "2008        39.6        36.7         18.0  \n",
       "2009        40.2        37.6         18.5  "
      ]
     },
     "execution_count": 33,
     "metadata": {},
     "output_type": "execute_result"
    }
   ],
   "source": [
    "dfs = [df_eu28, df_germany, df_greece]\n",
    "countries = [\"eu28\", \"germany\", \"greece\"]\n",
    "\n",
    "for i, df in enumerate(dfs):\n",
    "    # rename columns\n",
    "    df.rename(columns={'ED0-2low': f\"low_{countries[i]}\", \n",
    "                          'ED3_4medium': f\"med_{countries[i]}\", \n",
    "                          'ED5-8high': f\"high_{countries[i]}\"},\n",
    "              inplace=True)\n",
    "    \n",
    "    # drop employment columns\n",
    "    emp = [\"ED0-2\", \"ED3_4\", \"ED5-8\"]\n",
    "    if countries[i] != \"eu28\":\n",
    "        emp.append(\"year\")\n",
    "        \n",
    "    df.drop(columns=emp, inplace=True)\n",
    "\n",
    "# Merge df's\n",
    "combi = pd.concat(dfs, axis=1)\n",
    "combi.set_index(\"year\", inplace=True)\n",
    "combi.head()"
   ]
  },
  {
   "cell_type": "code",
   "execution_count": 25,
   "metadata": {},
   "outputs": [],
   "source": []
  },
  {
   "cell_type": "code",
   "execution_count": 26,
   "metadata": {},
   "outputs": [
    {
     "data": {
      "text/plain": [
       "Text(0.06, 0.5, 'Note')"
      ]
     },
     "execution_count": 26,
     "metadata": {},
     "output_type": "execute_result"
    },
    {
     "data": {
      "image/png": "[encoded data removed]",
      "text/plain": [
       "<Figure size 1224x576 with 9 Axes>"
      ]
     },
     "metadata": {},
     "output_type": "display_data"
    }
   ],
   "source": [
    "# Initialize the figure\n",
    "plt.style.use(\"seaborn-darkgrid\")\n",
    " \n",
    "# create a color palette\n",
    "palette = [\"red\", \"orange\", \"blue\"]\n",
    "\n",
    "# multiple line plot\n",
    "fig, axes = plt.subplots(3,3, figsize=(17,8))\n",
    "\n",
    "for num, column in enumerate(combi):\n",
    " \n",
    "    # Plot the lineplot\n",
    "    axes.flatten()[num].plot(combi[column], \n",
    "                             marker='', \n",
    "                             color=palette[num // 3], \n",
    "                             linewidth=1.9, \n",
    "                             alpha=0.9, \n",
    "                             label=column)\n",
    " \n",
    "    # Same limits for everybody!\n",
    "    axes.flatten()[num].set_xlim(0,10)\n",
    "    axes.flatten()[num].set_ylim(0,100)\n",
    " \n",
    "    # Not ticks everywhere\n",
    "    if num in range(6) :\n",
    "        axes.flatten()[num].tick_params(labelbottom=False)\n",
    "        \n",
    "    if num not in [0,3,6] :\n",
    "        axes.flatten()[num].tick_params(labelleft=False)\n",
    " \n",
    "    # Add title\n",
    "    axes.flatten()[num].set_title(column, \n",
    "                                  loc=\"left\", \n",
    "                                  fontsize=12, \n",
    "                                  fontweight=0, \n",
    "                                  color=palette[num // 3])\n",
    " \n",
    "# general title\n",
    "title = \"Unemployment rate for 3 education levels for the EU28 countries, Germany and Greece\"\n",
    "plt.suptitle(title, fontsize=15, fontweight=0, color='black', y=1.02)\n",
    " \n",
    "# Axis title\n",
    "plt.text(0.5, 0.02, 'Time', ha='center', va='center')\n",
    "plt.text(0.06, 0.5, 'Note', ha='center', va='center', rotation='vertical')\n"
   ]
  },
  {
   "cell_type": "markdown",
   "metadata": {},
   "source": [
    "### Findings\n",
    "- The unemployment rate for the lower education levels is higher than the medium and higher levels of education. \n",
    "- Greece especially has an increase in unemployment after 2008, which we could assume happened after the financial crisis. \n",
    "- Germany, however, has a more stable or even decreasing unemployment rate overall. \n",
    "- Comparing Germany and the EU28 countries, it even looks like Germany has a lower unemployment rate overall, compared to all 28 EU countries combined"
   ]
  },
  {
   "cell_type": "code",
   "execution_count": 34,
   "metadata": {},
   "outputs": [],
   "source": [
    "# Export\n",
    "combi.to_pickle(os.path.join(BASE, \n",
    "                             \"education_employment_rate_de_el_eu28.pkl\"))"
   ]
  },
  {
   "cell_type": "code",
   "execution_count": null,
   "metadata": {},
   "outputs": [],
   "source": []
  }
 ],
 "metadata": {
  "kernelspec": {
   "display_name": "Python 3",
   "language": "python",
   "name": "python3"
  },
  "language_info": {
   "codemirror_mode": {
    "name": "ipython",
    "version": 3
   },
   "file_extension": ".py",
   "mimetype": "text/x-python",
   "name": "python",
   "nbconvert_exporter": "python",
   "pygments_lexer": "ipython3",
   "version": "3.8.5"
  }
 },
 "nbformat": 4,
 "nbformat_minor": 4
}

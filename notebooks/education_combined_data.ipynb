{
 "cells": [
  {
   "cell_type": "markdown",
   "metadata": {},
   "source": [
    "## Comparison between the EU28, Germany and Greece\n",
    "Compare all 3 education levels of the EU28 countries, Germany and Greece"
   ]
  },
  {
   "cell_type": "code",
   "execution_count": 1,
   "metadata": {},
   "outputs": [],
   "source": [
    "import os\n",
    "\n",
    "import pandas as pd\n",
    "import numpy as np\n",
    "import matplotlib.pyplot as plt\n",
    "import seaborn as sns\n",
    "%matplotlib inline\n",
    "\n",
    "BASE = os.path.join(os.pardir, \"data\")"
   ]
  },
  {
   "cell_type": "code",
   "execution_count": 2,
   "metadata": {},
   "outputs": [],
   "source": [
    "# Import EU28 data\n",
    "df_eu28 = pd.read_pickle(os.path.join(BASE, \n",
    "                                      \"output\",\n",
    "                                      \"education_employment_rate_eu28.pkl\"))"
   ]
  },
  {
   "cell_type": "code",
   "execution_count": 3,
   "metadata": {},
   "outputs": [],
   "source": [
    "# Import Germany data\n",
    "df_germany = pd.read_pickle(os.path.join(BASE, \n",
    "                                         \"output\",\n",
    "                                         \"education_employment_rate_germany.pkl\"))"
   ]
  },
  {
   "cell_type": "code",
   "execution_count": 4,
   "metadata": {},
   "outputs": [],
   "source": [
    "# Import Greece data\n",
    "df_greece = pd.read_pickle(os.path.join(BASE, \n",
    "                                        \"output\",\n",
    "                                        \"education_employment_rate_greece.pkl\"))"
   ]
  },
  {
   "cell_type": "code",
   "execution_count": 5,
   "metadata": {},
   "outputs": [
    {
     "data": {
      "text/html": [
       "<div>\n",
       "<style scoped>\n",
       "    .dataframe tbody tr th:only-of-type {\n",
       "        vertical-align: middle;\n",
       "    }\n",
       "\n",
       "    .dataframe tbody tr th {\n",
       "        vertical-align: top;\n",
       "    }\n",
       "\n",
       "    .dataframe thead th {\n",
       "        text-align: right;\n",
       "    }\n",
       "</style>\n",
       "<table border=\"1\" class=\"dataframe\">\n",
       "  <thead>\n",
       "    <tr style=\"text-align: right;\">\n",
       "      <th></th>\n",
       "      <th>ED0-2</th>\n",
       "      <th>ED3_4</th>\n",
       "      <th>ED5-8</th>\n",
       "      <th>ED0-2low</th>\n",
       "      <th>ED3_4medium</th>\n",
       "      <th>ED5-8high</th>\n",
       "    </tr>\n",
       "  </thead>\n",
       "  <tbody>\n",
       "    <tr>\n",
       "      <th>2005</th>\n",
       "      <td>51.9</td>\n",
       "      <td>69.6</td>\n",
       "      <td>82.8</td>\n",
       "      <td>48.1</td>\n",
       "      <td>30.4</td>\n",
       "      <td>17.2</td>\n",
       "    </tr>\n",
       "    <tr>\n",
       "      <th>2006</th>\n",
       "      <td>54.1</td>\n",
       "      <td>71.4</td>\n",
       "      <td>84.2</td>\n",
       "      <td>45.9</td>\n",
       "      <td>28.6</td>\n",
       "      <td>15.8</td>\n",
       "    </tr>\n",
       "    <tr>\n",
       "      <th>2007</th>\n",
       "      <td>55.0</td>\n",
       "      <td>73.3</td>\n",
       "      <td>85.4</td>\n",
       "      <td>45.0</td>\n",
       "      <td>26.7</td>\n",
       "      <td>14.6</td>\n",
       "    </tr>\n",
       "    <tr>\n",
       "      <th>2008</th>\n",
       "      <td>55.9</td>\n",
       "      <td>74.2</td>\n",
       "      <td>85.7</td>\n",
       "      <td>44.1</td>\n",
       "      <td>25.8</td>\n",
       "      <td>14.3</td>\n",
       "    </tr>\n",
       "    <tr>\n",
       "      <th>2009</th>\n",
       "      <td>55.7</td>\n",
       "      <td>74.1</td>\n",
       "      <td>86.3</td>\n",
       "      <td>44.3</td>\n",
       "      <td>25.9</td>\n",
       "      <td>13.7</td>\n",
       "    </tr>\n",
       "  </tbody>\n",
       "</table>\n",
       "</div>"
      ],
      "text/plain": [
       "      ED0-2  ED3_4  ED5-8  ED0-2low  ED3_4medium  ED5-8high\n",
       "2005   51.9   69.6   82.8      48.1         30.4       17.2\n",
       "2006   54.1   71.4   84.2      45.9         28.6       15.8\n",
       "2007   55.0   73.3   85.4      45.0         26.7       14.6\n",
       "2008   55.9   74.2   85.7      44.1         25.8       14.3\n",
       "2009   55.7   74.1   86.3      44.3         25.9       13.7"
      ]
     },
     "execution_count": 5,
     "metadata": {},
     "output_type": "execute_result"
    }
   ],
   "source": [
    "df_germany.head()"
   ]
  },
  {
   "cell_type": "markdown",
   "metadata": {},
   "source": [
    "### Dataset problems\n",
    "Because we discovered the data isn't useable for the unemployment case, we created another combination dataframe so we can compare employment data.\n",
    "\n",
    "- emp_combi = **em**ployment data\n",
    "- combi = **unem**ployment data\n",
    "\n",
    "Further explanation and the second combination dataset is found below under 'deprecated'"
   ]
  },
  {
   "cell_type": "code",
   "execution_count": 6,
   "metadata": {},
   "outputs": [
    {
     "data": {
      "text/html": [
       "<div>\n",
       "<style scoped>\n",
       "    .dataframe tbody tr th:only-of-type {\n",
       "        vertical-align: middle;\n",
       "    }\n",
       "\n",
       "    .dataframe tbody tr th {\n",
       "        vertical-align: top;\n",
       "    }\n",
       "\n",
       "    .dataframe thead th {\n",
       "        text-align: right;\n",
       "    }\n",
       "</style>\n",
       "<table border=\"1\" class=\"dataframe\">\n",
       "  <thead>\n",
       "    <tr style=\"text-align: right;\">\n",
       "      <th></th>\n",
       "      <th>low_eu28</th>\n",
       "      <th>med_eu28</th>\n",
       "      <th>high_eu28</th>\n",
       "      <th>low_germany</th>\n",
       "      <th>med_germany</th>\n",
       "      <th>high_germany</th>\n",
       "      <th>low_greece</th>\n",
       "      <th>med_greece</th>\n",
       "      <th>high_greece</th>\n",
       "    </tr>\n",
       "  </thead>\n",
       "  <tbody>\n",
       "    <tr>\n",
       "      <th>2005</th>\n",
       "      <td>55.5</td>\n",
       "      <td>69.4</td>\n",
       "      <td>82.6</td>\n",
       "      <td>51.9</td>\n",
       "      <td>69.6</td>\n",
       "      <td>82.8</td>\n",
       "      <td>58.0</td>\n",
       "      <td>62.7</td>\n",
       "      <td>80.9</td>\n",
       "    </tr>\n",
       "    <tr>\n",
       "      <th>2006</th>\n",
       "      <td>56.3</td>\n",
       "      <td>70.4</td>\n",
       "      <td>83.2</td>\n",
       "      <td>54.1</td>\n",
       "      <td>71.4</td>\n",
       "      <td>84.2</td>\n",
       "      <td>59.6</td>\n",
       "      <td>62.9</td>\n",
       "      <td>82.1</td>\n",
       "    </tr>\n",
       "    <tr>\n",
       "      <th>2007</th>\n",
       "      <td>56.9</td>\n",
       "      <td>71.4</td>\n",
       "      <td>83.8</td>\n",
       "      <td>55.0</td>\n",
       "      <td>73.3</td>\n",
       "      <td>85.4</td>\n",
       "      <td>60.2</td>\n",
       "      <td>62.8</td>\n",
       "      <td>81.8</td>\n",
       "    </tr>\n",
       "    <tr>\n",
       "      <th>2008</th>\n",
       "      <td>56.4</td>\n",
       "      <td>71.7</td>\n",
       "      <td>83.8</td>\n",
       "      <td>55.9</td>\n",
       "      <td>74.2</td>\n",
       "      <td>85.7</td>\n",
       "      <td>60.4</td>\n",
       "      <td>63.3</td>\n",
       "      <td>82.0</td>\n",
       "    </tr>\n",
       "    <tr>\n",
       "      <th>2009</th>\n",
       "      <td>54.2</td>\n",
       "      <td>70.3</td>\n",
       "      <td>82.9</td>\n",
       "      <td>55.7</td>\n",
       "      <td>74.1</td>\n",
       "      <td>86.3</td>\n",
       "      <td>59.8</td>\n",
       "      <td>62.4</td>\n",
       "      <td>81.5</td>\n",
       "    </tr>\n",
       "  </tbody>\n",
       "</table>\n",
       "</div>"
      ],
      "text/plain": [
       "      low_eu28  med_eu28  high_eu28  low_germany  med_germany  high_germany  \\\n",
       "2005      55.5      69.4       82.6         51.9         69.6          82.8   \n",
       "2006      56.3      70.4       83.2         54.1         71.4          84.2   \n",
       "2007      56.9      71.4       83.8         55.0         73.3          85.4   \n",
       "2008      56.4      71.7       83.8         55.9         74.2          85.7   \n",
       "2009      54.2      70.3       82.9         55.7         74.1          86.3   \n",
       "\n",
       "      low_greece  med_greece  high_greece  \n",
       "2005        58.0        62.7         80.9  \n",
       "2006        59.6        62.9         82.1  \n",
       "2007        60.2        62.8         81.8  \n",
       "2008        60.4        63.3         82.0  \n",
       "2009        59.8        62.4         81.5  "
      ]
     },
     "execution_count": 6,
     "metadata": {},
     "output_type": "execute_result"
    }
   ],
   "source": [
    "# Dataframes for unemployment \n",
    "dfs = [df_eu28, df_germany, df_greece]\n",
    "\n",
    "# Dataframes for employment \n",
    "empl = [df.copy() for df in dfs]\n",
    "countries = [\"eu28\", \"germany\", \"greece\"]\n",
    "\n",
    "for i, df in enumerate(empl):\n",
    "    # rename columns\n",
    "    df.rename(columns={'ED0-2': f\"low_{countries[i]}\", \n",
    "                       'ED3_4': f\"med_{countries[i]}\", \n",
    "                       'ED5-8': f\"high_{countries[i]}\"},\n",
    "              inplace=True)\n",
    "    \n",
    "    # drop employment columns\n",
    "    unemp = [\"ED0-2low\", \"ED3_4medium\", \"ED5-8high\"]\n",
    "    df.drop(columns=unemp, inplace=True)\n",
    "\n",
    "# Merge df's\n",
    "emp_combi = pd.concat(empl, axis=1)\n",
    "emp_combi.index = emp_combi.index.astype(int)\n",
    "emp_combi.head()"
   ]
  },
  {
   "cell_type": "code",
   "execution_count": 8,
   "metadata": {},
   "outputs": [
    {
     "data": {
      "text/plain": [
       "\n",
       "low_eu28        52.1\n",
       "med_eu28        69.6\n",
       "high_eu28       81.9\n",
       "low_germany     57.8\n",
       "med_germany     76.8\n",
       "high_germany    87.7\n",
       "low_greece      48.0\n",
       "med_greece      51.4\n",
       "high_greece     70.3\n",
       "Name: 2012, dtype: float64"
      ]
     },
     "execution_count": 8,
     "metadata": {},
     "output_type": "execute_result"
    }
   ],
   "source": [
    "emp_combi.loc[2012]"
   ]
  },
  {
   "cell_type": "code",
   "execution_count": 21,
   "metadata": {},
   "outputs": [],
   "source": [
    "# Export\n",
    "filename = os.path.join(BASE, \n",
    "                        \"output\",\n",
    "                        \"education_employment_rate_de_el_eu28\")\n",
    "emp_combi.to_pickle(f\"{filename}.pkl\")\n",
    "emp_combi.to_csv(f\"{filename}.csv\")"
   ]
  },
  {
   "cell_type": "markdown",
   "metadata": {},
   "source": [
    "To make graphs in Tableau we need the data in another form. We use data for 2012."
   ]
  },
  {
   "cell_type": "code",
   "execution_count": 21,
   "metadata": {},
   "outputs": [],
   "source": [
    "year = 2012\n",
    "\n",
    "trans = []\n",
    "for i in range(9):\n",
    "    # Make a row every for every 3 columns\n",
    "    if i % 3:\n",
    "        continue\n",
    "        \n",
    "    trans.append([countries[i // 3]] + list(emp_combi.loc[year][i: i + 3]))\n",
    "\n",
    "# New column names\n",
    "cols = [\"geo\", \"low\", \"med\", \"hi\"]\n",
    "\n",
    "t_df = pd.DataFrame(trans, columns=cols).set_index(\"geo\")\n",
    "\n",
    "# Transpose these values \n",
    "t_df = t_df.T"
   ]
  },
  {
   "cell_type": "code",
   "execution_count": 27,
   "metadata": {},
   "outputs": [],
   "source": [
    "# Remove the label of 'columns'\n",
    "t_df.columns.name = \"\""
   ]
  },
  {
   "cell_type": "code",
   "execution_count": 28,
   "metadata": {},
   "outputs": [],
   "source": [
    "# Export the file to CSV\n",
    "t_df.to_csv(os.path.join(BASE, \n",
    "                         \"output\",\n",
    "                         \"edu_emp_2012.csv\"))"
   ]
  },
  {
   "cell_type": "markdown",
   "metadata": {},
   "source": [
    "## Deprecated code\n",
    "We discovered that we misinterpreted the data on education levels. There are three problems:\n",
    "- The data is regarding employment, not unemployment\n",
    "- The data is cumulative (If you have high level, you have also had low and medium schooling)\n",
    "- The number is the rate of people employed vs total population. \n",
    "\n",
    "These three problems mean we cannot take the remainder of '100 - employed' as 'unemployed'. We changed our code so we couuld export some information and make a stacked bar plot in Tableau, however the code below is no longer used. "
   ]
  },
  {
   "cell_type": "code",
   "execution_count": 13,
   "metadata": {},
   "outputs": [
    {
     "data": {
      "text/html": [
       "<div>\n",
       "<style scoped>\n",
       "    .dataframe tbody tr th:only-of-type {\n",
       "        vertical-align: middle;\n",
       "    }\n",
       "\n",
       "    .dataframe tbody tr th {\n",
       "        vertical-align: top;\n",
       "    }\n",
       "\n",
       "    .dataframe thead th {\n",
       "        text-align: right;\n",
       "    }\n",
       "</style>\n",
       "<table border=\"1\" class=\"dataframe\">\n",
       "  <thead>\n",
       "    <tr style=\"text-align: right;\">\n",
       "      <th></th>\n",
       "      <th>low_eu28</th>\n",
       "      <th>med_eu28</th>\n",
       "      <th>high_eu28</th>\n",
       "      <th>low_germany</th>\n",
       "      <th>med_germany</th>\n",
       "      <th>high_germany</th>\n",
       "      <th>low_greece</th>\n",
       "      <th>med_greece</th>\n",
       "      <th>high_greece</th>\n",
       "    </tr>\n",
       "  </thead>\n",
       "  <tbody>\n",
       "    <tr>\n",
       "      <th>2005</th>\n",
       "      <td>44.5</td>\n",
       "      <td>30.6</td>\n",
       "      <td>17.4</td>\n",
       "      <td>48.1</td>\n",
       "      <td>30.4</td>\n",
       "      <td>17.2</td>\n",
       "      <td>42.0</td>\n",
       "      <td>37.3</td>\n",
       "      <td>19.1</td>\n",
       "    </tr>\n",
       "    <tr>\n",
       "      <th>2006</th>\n",
       "      <td>43.7</td>\n",
       "      <td>29.6</td>\n",
       "      <td>16.8</td>\n",
       "      <td>45.9</td>\n",
       "      <td>28.6</td>\n",
       "      <td>15.8</td>\n",
       "      <td>40.4</td>\n",
       "      <td>37.1</td>\n",
       "      <td>17.9</td>\n",
       "    </tr>\n",
       "    <tr>\n",
       "      <th>2007</th>\n",
       "      <td>43.1</td>\n",
       "      <td>28.6</td>\n",
       "      <td>16.2</td>\n",
       "      <td>45.0</td>\n",
       "      <td>26.7</td>\n",
       "      <td>14.6</td>\n",
       "      <td>39.8</td>\n",
       "      <td>37.2</td>\n",
       "      <td>18.2</td>\n",
       "    </tr>\n",
       "    <tr>\n",
       "      <th>2008</th>\n",
       "      <td>43.6</td>\n",
       "      <td>28.3</td>\n",
       "      <td>16.2</td>\n",
       "      <td>44.1</td>\n",
       "      <td>25.8</td>\n",
       "      <td>14.3</td>\n",
       "      <td>39.6</td>\n",
       "      <td>36.7</td>\n",
       "      <td>18.0</td>\n",
       "    </tr>\n",
       "    <tr>\n",
       "      <th>2009</th>\n",
       "      <td>45.8</td>\n",
       "      <td>29.7</td>\n",
       "      <td>17.1</td>\n",
       "      <td>44.3</td>\n",
       "      <td>25.9</td>\n",
       "      <td>13.7</td>\n",
       "      <td>40.2</td>\n",
       "      <td>37.6</td>\n",
       "      <td>18.5</td>\n",
       "    </tr>\n",
       "  </tbody>\n",
       "</table>\n",
       "</div>"
      ],
      "text/plain": [
       "      low_eu28  med_eu28  high_eu28  low_germany  med_germany  high_germany  \\\n",
       "2005      44.5      30.6       17.4         48.1         30.4          17.2   \n",
       "2006      43.7      29.6       16.8         45.9         28.6          15.8   \n",
       "2007      43.1      28.6       16.2         45.0         26.7          14.6   \n",
       "2008      43.6      28.3       16.2         44.1         25.8          14.3   \n",
       "2009      45.8      29.7       17.1         44.3         25.9          13.7   \n",
       "\n",
       "      low_greece  med_greece  high_greece  \n",
       "2005        42.0        37.3         19.1  \n",
       "2006        40.4        37.1         17.9  \n",
       "2007        39.8        37.2         18.2  \n",
       "2008        39.6        36.7         18.0  \n",
       "2009        40.2        37.6         18.5  "
      ]
     },
     "execution_count": 13,
     "metadata": {},
     "output_type": "execute_result"
    }
   ],
   "source": [
    "# Original loop for unemployment data\n",
    "\n",
    "for i, df in enumerate(dfs):\n",
    "    # rename columns\n",
    "    df.rename(columns={'ED0-2low': f\"low_{countries[i]}\", \n",
    "                       'ED3_4medium': f\"med_{countries[i]}\", \n",
    "                       'ED5-8high': f\"high_{countries[i]}\"},\n",
    "              inplace=True)\n",
    "    \n",
    "    # drop employment columns\n",
    "    emp = [\"ED0-2\", \"ED3_4\", \"ED5-8\"]\n",
    "    df.drop(columns=emp, inplace=True)\n",
    "\n",
    "# Merge df's\n",
    "combi = pd.concat(dfs, axis=1)\n",
    "combi.index = combi.index.astype(int)\n",
    "combi.head()"
   ]
  },
  {
   "cell_type": "code",
   "execution_count": 7,
   "metadata": {},
   "outputs": [
    {
     "data": {
      "text/plain": [
       "Text(0.06, 0.5, 'Note')"
      ]
     },
     "execution_count": 7,
     "metadata": {},
     "output_type": "execute_result"
    },
    {
     "data": {
      "image/png": "[encoded data removed]",
      "text/plain": [
       "<Figure size 1224x576 with 9 Axes>"
      ]
     },
     "metadata": {},
     "output_type": "display_data"
    }
   ],
   "source": [
    "# Initialize the figure\n",
    "plt.style.use(\"seaborn-darkgrid\")\n",
    " \n",
    "# create a color palette\n",
    "palette = [\"red\", \"orange\", \"blue\"]\n",
    "\n",
    "# multiple line plot\n",
    "fig, axes = plt.subplots(3,3, figsize=(17,8))\n",
    "\n",
    "for num, column in enumerate(emp_combi):\n",
    " \n",
    "    # Plot the lineplot\n",
    "    axes.flatten()[num].plot(emp_combi[column], \n",
    "                             marker='', \n",
    "                             color=palette[num // 3], \n",
    "                             linewidth=1.9, \n",
    "                             alpha=0.9, \n",
    "                             label=column)\n",
    " \n",
    "    # Same limits for everybody!\n",
    "    axes.flatten()[num].set_xlim(0,10)\n",
    "    axes.flatten()[num].set_ylim(0,100)\n",
    " \n",
    "    # Not ticks everywhere\n",
    "    if num in range(6) :\n",
    "        axes.flatten()[num].tick_params(labelbottom=False)\n",
    "        \n",
    "    if num not in [0,3,6] :\n",
    "        axes.flatten()[num].tick_params(labelleft=False)\n",
    " \n",
    "    # Add title\n",
    "    axes.flatten()[num].set_title(column, \n",
    "                                  loc=\"left\", \n",
    "                                  fontsize=12, \n",
    "                                  fontweight=0, \n",
    "                                  color=palette[num // 3])\n",
    " \n",
    "# general title\n",
    "title = \"Rate for 3 education levels for the EU28 countries, Germany and Greece\"\n",
    "\n",
    "plt.suptitle(title, fontsize=15, fontweight=0, color='black', y=1.02)\n",
    " \n",
    "# Axis title\n",
    "plt.text(0.5, 0.02, 'Time', ha='center', va='center')\n",
    "plt.text(0.06, 0.5, 'Note', ha='center', va='center', rotation='vertical')\n"
   ]
  },
  {
   "cell_type": "markdown",
   "metadata": {},
   "source": [
    "### Findings\n",
    "- The unemployment rate for the lower education levels is higher than the medium and higher levels of education. \n",
    "- Greece especially has an increase in unemployment after 2008, which we could assume happened after the financial crisis. \n",
    "- Germany, however, has a more stable or even decreasing unemployment rate overall. \n",
    "- Comparing Germany and the EU28 countries, it even looks like Germany has a lower unemployment rate overall, compared to all 28 EU countries combined"
   ]
  },
  {
   "cell_type": "markdown",
   "metadata": {},
   "source": [
    "#### Relative rates\n",
    "The code below was to calculate a relative rate for each level. However then we discovered the rates are cumative and referring to the total population iso active population. "
   ]
  },
  {
   "cell_type": "code",
   "execution_count": 70,
   "metadata": {},
   "outputs": [],
   "source": [
    "# Import total unemployment data\n",
    "total = pd.read_pickle(os.path.join(BASE, \n",
    "                                    \"pickles\",\n",
    "                                    \"total_unemployment_rate.pkl\"))\n",
    "count_codes = [\"EU28\", \"DE\", \"EL\"]\n",
    "drop = [col for col in total.columns if col not in count_codes]\n",
    "total.drop(columns=drop, inplace=True)\n",
    "total = total[count_codes]\n",
    "total = total.loc[2012]"
   ]
  },
  {
   "cell_type": "code",
   "execution_count": 73,
   "metadata": {},
   "outputs": [],
   "source": [
    "# Take one year\n",
    "rel_rate = combi.loc[2012]"
   ]
  },
  {
   "cell_type": "code",
   "execution_count": 74,
   "metadata": {},
   "outputs": [],
   "source": [
    "# Combine edu data with total unemployment data\n",
    "rel_rate = pd.concat([rel_rate, total])"
   ]
  },
  {
   "cell_type": "code",
   "execution_count": 75,
   "metadata": {},
   "outputs": [
    {
     "data": {
      "text/plain": [
       "\n",
       "low_eu28        47.9\n",
       "med_eu28        30.4\n",
       "high_eu28       18.1\n",
       "low_germany     42.2\n",
       "med_germany     23.2\n",
       "high_germany    12.3\n",
       "low_greece      52.0\n",
       "med_greece      48.6\n",
       "high_greece     29.7\n",
       "EU28            10.5\n",
       "DE               5.4\n",
       "EL              24.5\n",
       "Name: 2012, dtype: float64"
      ]
     },
     "execution_count": 75,
     "metadata": {},
     "output_type": "execute_result"
    }
   ],
   "source": [
    "rel_rate"
   ]
  },
  {
   "cell_type": "markdown",
   "metadata": {},
   "source": [
    "#### Calculate relative rates\n",
    "After this prework we can loop over the 3 regions to calculate the relative rates."
   ]
  },
  {
   "cell_type": "code",
   "execution_count": 78,
   "metadata": {},
   "outputs": [
    {
     "name": "stdout",
     "output_type": "stream",
     "text": [
      "[{'eu28': [4.56, 5.63, 0.74]}, {'germany': [4.02, 4.3, 0.5]}, {'greece': [4.95, 9.0, 1.21]}]\n"
     ]
    }
   ],
   "source": [
    "\n",
    "rel_edu = []\n",
    "i = 0\n",
    "\n",
    "for country in countries:\n",
    "    # For every country save a list with relative rates\n",
    "    rel_edu.append({country: [round(rel_rate.iloc[i+x] / \n",
    "                              rel_rate[count_codes[x]], 2) \n",
    "                              for x in range(3)]})\n",
    "    i += 3\n",
    "print(rel_edu)"
   ]
  },
  {
   "cell_type": "markdown",
   "metadata": {},
   "source": [
    "### Findings\n",
    "Looking at the relative rates, we can conclude they make no sense. We discard these findings and rework the original dataset."
   ]
  },
  {
   "cell_type": "code",
   "execution_count": null,
   "metadata": {},
   "outputs": [],
   "source": []
  }
 ],
 "metadata": {
  "kernelspec": {
   "display_name": "Python 3",
   "language": "python",
   "name": "python3"
  },
  "language_info": {
   "codemirror_mode": {
    "name": "ipython",
    "version": 3
   },
   "file_extension": ".py",
   "mimetype": "text/x-python",
   "name": "python",
   "nbconvert_exporter": "python",
   "pygments_lexer": "ipython3",
   "version": "3.8.5"
  }
 },
 "nbformat": 4,
 "nbformat_minor": 4
}
